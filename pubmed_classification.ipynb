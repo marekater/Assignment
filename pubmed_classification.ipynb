{
  "nbformat": 4,
  "nbformat_minor": 0,
  "metadata": {
    "kernelspec": {
      "name": "python3",
      "display_name": "Python 3"
    },
    "language_info": {
      "codemirror_mode": {
        "name": "ipython",
        "version": 3
      },
      "file_extension": ".py",
      "mimetype": "text/x-python",
      "name": "python",
      "nbconvert_exporter": "python",
      "pygments_lexer": "ipython3",
      "version": "3.7.5"
    },
    "toc": {
      "base_numbering": 1,
      "nav_menu": {},
      "number_sections": true,
      "sideBar": true,
      "skip_h1_title": true,
      "title_cell": "Table of Contents",
      "title_sidebar": "Contents",
      "toc_cell": true,
      "toc_position": {},
      "toc_section_display": true,
      "toc_window_display": true
    },
    "colab": {
      "name": "pubmed_classification.ipynb",
      "provenance": []
    },
    "accelerator": "GPU"
  },
  "cells": [
    {
      "cell_type": "markdown",
      "metadata": {
        "toc": true,
        "id": "VbIuVQD-uPSF",
        "colab_type": "text"
      },
      "source": [
        "<h1>Table of Contents<span class=\"tocSkip\"></span></h1>\n",
        "<div class=\"toc\"><ul class=\"toc-item\"><li><span><a href=\"#Language-model\" data-toc-modified-id=\"Language-model-1\"><span class=\"toc-item-num\">1&nbsp;&nbsp;</span>Language model</a></span></li><li><span><a href=\"#Classifier-model\" data-toc-modified-id=\"Classifier-model-2\"><span class=\"toc-item-num\">2&nbsp;&nbsp;</span>Classifier model</a></span></li></ul></div>"
      ]
    },
    {
      "cell_type": "markdown",
      "metadata": {
        "id": "9tlRej5XQWGZ",
        "colab_type": "text"
      },
      "source": [
        "### Load the data"
      ]
    },
    {
      "cell_type": "code",
      "metadata": {
        "id": "Wj2NxoL7uPSN",
        "colab_type": "code",
        "colab": {}
      },
      "source": [
        "import sqlite3\n",
        "import pandas as pd\n",
        "from fastai import*\n",
        "from fastai.vision import*\n",
        "from fastai.core import*\n",
        "from fastai.metrics import accuracy\n",
        "from sklearn.model_selection import train_test_split\n",
        "from fastai.text import *"
      ],
      "execution_count": 0,
      "outputs": []
    },
    {
      "cell_type": "code",
      "metadata": {
        "id": "Xp5fsE3muvzU",
        "colab_type": "code",
        "outputId": "94548529-4dd1-48b9-9ede-d2efdc2aed29",
        "colab": {
          "base_uri": "https://localhost:8080/",
          "height": 34
        }
      },
      "source": [
        "cd /"
      ],
      "execution_count": 0,
      "outputs": [
        {
          "output_type": "stream",
          "text": [
            "/\n"
          ],
          "name": "stdout"
        }
      ]
    },
    {
      "cell_type": "code",
      "metadata": {
        "id": "pCkUUME_uPSW",
        "colab_type": "code",
        "outputId": "df3ba64d-42d9-4856-db5d-b1b6eadf118c",
        "colab": {
          "base_uri": "https://localhost:8080/",
          "height": 669
        }
      },
      "source": [
        "con = sqlite3.connect(\"pubmed_ids.db\")\n",
        "with con:\n",
        "    df_ids = pd.read_sql_query(\"SELECT * from ids\", con)\n",
        "df_ids.head(20)"
      ],
      "execution_count": 0,
      "outputs": [
        {
          "output_type": "execute_result",
          "data": {
            "text/html": [
              "<div>\n",
              "<style scoped>\n",
              "    .dataframe tbody tr th:only-of-type {\n",
              "        vertical-align: middle;\n",
              "    }\n",
              "\n",
              "    .dataframe tbody tr th {\n",
              "        vertical-align: top;\n",
              "    }\n",
              "\n",
              "    .dataframe thead th {\n",
              "        text-align: right;\n",
              "    }\n",
              "</style>\n",
              "<table border=\"1\" class=\"dataframe\">\n",
              "  <thead>\n",
              "    <tr style=\"text-align: right;\">\n",
              "      <th></th>\n",
              "      <th>id</th>\n",
              "      <th>class1</th>\n",
              "      <th>class2</th>\n",
              "      <th>class3</th>\n",
              "    </tr>\n",
              "  </thead>\n",
              "  <tbody>\n",
              "    <tr>\n",
              "      <th>0</th>\n",
              "      <td>7</td>\n",
              "      <td>1.0</td>\n",
              "      <td>NaN</td>\n",
              "      <td>NaN</td>\n",
              "    </tr>\n",
              "    <tr>\n",
              "      <th>1</th>\n",
              "      <td>101</td>\n",
              "      <td>NaN</td>\n",
              "      <td>NaN</td>\n",
              "      <td>1.0</td>\n",
              "    </tr>\n",
              "    <tr>\n",
              "      <th>2</th>\n",
              "      <td>111</td>\n",
              "      <td>1.0</td>\n",
              "      <td>NaN</td>\n",
              "      <td>NaN</td>\n",
              "    </tr>\n",
              "    <tr>\n",
              "      <th>3</th>\n",
              "      <td>127</td>\n",
              "      <td>1.0</td>\n",
              "      <td>NaN</td>\n",
              "      <td>NaN</td>\n",
              "    </tr>\n",
              "    <tr>\n",
              "      <th>4</th>\n",
              "      <td>178</td>\n",
              "      <td>NaN</td>\n",
              "      <td>NaN</td>\n",
              "      <td>1.0</td>\n",
              "    </tr>\n",
              "    <tr>\n",
              "      <th>5</th>\n",
              "      <td>300</td>\n",
              "      <td>1.0</td>\n",
              "      <td>NaN</td>\n",
              "      <td>NaN</td>\n",
              "    </tr>\n",
              "    <tr>\n",
              "      <th>6</th>\n",
              "      <td>313</td>\n",
              "      <td>NaN</td>\n",
              "      <td>NaN</td>\n",
              "      <td>1.0</td>\n",
              "    </tr>\n",
              "    <tr>\n",
              "      <th>7</th>\n",
              "      <td>338</td>\n",
              "      <td>1.0</td>\n",
              "      <td>NaN</td>\n",
              "      <td>NaN</td>\n",
              "    </tr>\n",
              "    <tr>\n",
              "      <th>8</th>\n",
              "      <td>438</td>\n",
              "      <td>NaN</td>\n",
              "      <td>NaN</td>\n",
              "      <td>1.0</td>\n",
              "    </tr>\n",
              "    <tr>\n",
              "      <th>9</th>\n",
              "      <td>518</td>\n",
              "      <td>NaN</td>\n",
              "      <td>NaN</td>\n",
              "      <td>1.0</td>\n",
              "    </tr>\n",
              "    <tr>\n",
              "      <th>10</th>\n",
              "      <td>531</td>\n",
              "      <td>NaN</td>\n",
              "      <td>NaN</td>\n",
              "      <td>1.0</td>\n",
              "    </tr>\n",
              "    <tr>\n",
              "      <th>11</th>\n",
              "      <td>532</td>\n",
              "      <td>NaN</td>\n",
              "      <td>NaN</td>\n",
              "      <td>1.0</td>\n",
              "    </tr>\n",
              "    <tr>\n",
              "      <th>12</th>\n",
              "      <td>545</td>\n",
              "      <td>1.0</td>\n",
              "      <td>NaN</td>\n",
              "      <td>1.0</td>\n",
              "    </tr>\n",
              "    <tr>\n",
              "      <th>13</th>\n",
              "      <td>546</td>\n",
              "      <td>1.0</td>\n",
              "      <td>NaN</td>\n",
              "      <td>NaN</td>\n",
              "    </tr>\n",
              "    <tr>\n",
              "      <th>14</th>\n",
              "      <td>547</td>\n",
              "      <td>1.0</td>\n",
              "      <td>NaN</td>\n",
              "      <td>NaN</td>\n",
              "    </tr>\n",
              "    <tr>\n",
              "      <th>15</th>\n",
              "      <td>549</td>\n",
              "      <td>1.0</td>\n",
              "      <td>NaN</td>\n",
              "      <td>NaN</td>\n",
              "    </tr>\n",
              "    <tr>\n",
              "      <th>16</th>\n",
              "      <td>552</td>\n",
              "      <td>1.0</td>\n",
              "      <td>NaN</td>\n",
              "      <td>NaN</td>\n",
              "    </tr>\n",
              "    <tr>\n",
              "      <th>17</th>\n",
              "      <td>553</td>\n",
              "      <td>1.0</td>\n",
              "      <td>NaN</td>\n",
              "      <td>NaN</td>\n",
              "    </tr>\n",
              "    <tr>\n",
              "      <th>18</th>\n",
              "      <td>554</td>\n",
              "      <td>1.0</td>\n",
              "      <td>NaN</td>\n",
              "      <td>NaN</td>\n",
              "    </tr>\n",
              "    <tr>\n",
              "      <th>19</th>\n",
              "      <td>557</td>\n",
              "      <td>1.0</td>\n",
              "      <td>NaN</td>\n",
              "      <td>NaN</td>\n",
              "    </tr>\n",
              "  </tbody>\n",
              "</table>\n",
              "</div>"
            ],
            "text/plain": [
              "     id  class1  class2  class3\n",
              "0     7     1.0     NaN     NaN\n",
              "1   101     NaN     NaN     1.0\n",
              "2   111     1.0     NaN     NaN\n",
              "3   127     1.0     NaN     NaN\n",
              "4   178     NaN     NaN     1.0\n",
              "5   300     1.0     NaN     NaN\n",
              "6   313     NaN     NaN     1.0\n",
              "7   338     1.0     NaN     NaN\n",
              "8   438     NaN     NaN     1.0\n",
              "9   518     NaN     NaN     1.0\n",
              "10  531     NaN     NaN     1.0\n",
              "11  532     NaN     NaN     1.0\n",
              "12  545     1.0     NaN     1.0\n",
              "13  546     1.0     NaN     NaN\n",
              "14  547     1.0     NaN     NaN\n",
              "15  549     1.0     NaN     NaN\n",
              "16  552     1.0     NaN     NaN\n",
              "17  553     1.0     NaN     NaN\n",
              "18  554     1.0     NaN     NaN\n",
              "19  557     1.0     NaN     NaN"
            ]
          },
          "metadata": {
            "tags": []
          },
          "execution_count": 52
        }
      ]
    },
    {
      "cell_type": "code",
      "metadata": {
        "id": "7PScmhRDuPSd",
        "colab_type": "code",
        "outputId": "49083385-8b36-4d2c-cbe1-8f5d20164dee",
        "colab": {
          "base_uri": "https://localhost:8080/",
          "height": 669
        }
      },
      "source": [
        "con = sqlite3.connect(\"pubmed_abstracts.db\")\n",
        "with con:\n",
        "    df = pd.read_sql_query(\"SELECT * from abstracts\", con)\n",
        "df.tail(20)"
      ],
      "execution_count": 0,
      "outputs": [
        {
          "output_type": "execute_result",
          "data": {
            "text/html": [
              "<div>\n",
              "<style scoped>\n",
              "    .dataframe tbody tr th:only-of-type {\n",
              "        vertical-align: middle;\n",
              "    }\n",
              "\n",
              "    .dataframe tbody tr th {\n",
              "        vertical-align: top;\n",
              "    }\n",
              "\n",
              "    .dataframe thead th {\n",
              "        text-align: right;\n",
              "    }\n",
              "</style>\n",
              "<table border=\"1\" class=\"dataframe\">\n",
              "  <thead>\n",
              "    <tr style=\"text-align: right;\">\n",
              "      <th></th>\n",
              "      <th>id</th>\n",
              "      <th>data</th>\n",
              "    </tr>\n",
              "  </thead>\n",
              "  <tbody>\n",
              "    <tr>\n",
              "      <th>32895</th>\n",
              "      <td>31538461</td>\n",
              "      <td>&lt;abstract&gt;\\n&lt;abstracttext&gt;Nonsyndromic cleft l...</td>\n",
              "    </tr>\n",
              "    <tr>\n",
              "      <th>32896</th>\n",
              "      <td>31593207</td>\n",
              "      <td>&lt;abstract&gt;\\n&lt;abstracttext&gt;Alcohol-induced live...</td>\n",
              "    </tr>\n",
              "    <tr>\n",
              "      <th>32897</th>\n",
              "      <td>31593705</td>\n",
              "      <td>&lt;abstract&gt;\\n&lt;abstracttext&gt;Taxifolin (TAX) repo...</td>\n",
              "    </tr>\n",
              "    <tr>\n",
              "      <th>32898</th>\n",
              "      <td>31595778</td>\n",
              "      <td>&lt;abstract&gt;\\n&lt;abstracttext label=\"OBJECTIVE\" nl...</td>\n",
              "    </tr>\n",
              "    <tr>\n",
              "      <th>32899</th>\n",
              "      <td>31596835</td>\n",
              "      <td></td>\n",
              "    </tr>\n",
              "    <tr>\n",
              "      <th>32900</th>\n",
              "      <td>31602838</td>\n",
              "      <td>&lt;abstract&gt;\\n&lt;abstracttext&gt;The aim of this pape...</td>\n",
              "    </tr>\n",
              "    <tr>\n",
              "      <th>32901</th>\n",
              "      <td>31602840</td>\n",
              "      <td>&lt;abstract&gt;\\n&lt;abstracttext&gt;The study aimed to i...</td>\n",
              "    </tr>\n",
              "    <tr>\n",
              "      <th>32902</th>\n",
              "      <td>31602841</td>\n",
              "      <td>&lt;abstract&gt;\\n&lt;abstracttext&gt;To study the effects...</td>\n",
              "    </tr>\n",
              "    <tr>\n",
              "      <th>32903</th>\n",
              "      <td>31602911</td>\n",
              "      <td>&lt;abstract&gt;\\n&lt;abstracttext&gt;Tripterygium wilford...</td>\n",
              "    </tr>\n",
              "    <tr>\n",
              "      <th>32904</th>\n",
              "      <td>31602916</td>\n",
              "      <td>&lt;abstract&gt;\\n&lt;abstracttext&gt;The aim of this pape...</td>\n",
              "    </tr>\n",
              "    <tr>\n",
              "      <th>32905</th>\n",
              "      <td>31603634</td>\n",
              "      <td>&lt;abstract&gt;\\n&lt;abstracttext&gt;Drug re-exposure res...</td>\n",
              "    </tr>\n",
              "    <tr>\n",
              "      <th>32906</th>\n",
              "      <td>31604573</td>\n",
              "      <td></td>\n",
              "    </tr>\n",
              "    <tr>\n",
              "      <th>32907</th>\n",
              "      <td>31644632</td>\n",
              "      <td></td>\n",
              "    </tr>\n",
              "    <tr>\n",
              "      <th>32908</th>\n",
              "      <td>31720719</td>\n",
              "      <td>&lt;abstract&gt;\\n&lt;abstracttext&gt;In the context of su...</td>\n",
              "    </tr>\n",
              "    <tr>\n",
              "      <th>32909</th>\n",
              "      <td>31727489</td>\n",
              "      <td></td>\n",
              "    </tr>\n",
              "    <tr>\n",
              "      <th>32910</th>\n",
              "      <td>31735450</td>\n",
              "      <td></td>\n",
              "    </tr>\n",
              "    <tr>\n",
              "      <th>32911</th>\n",
              "      <td>31801006</td>\n",
              "      <td></td>\n",
              "    </tr>\n",
              "    <tr>\n",
              "      <th>32912</th>\n",
              "      <td>31801007</td>\n",
              "      <td></td>\n",
              "    </tr>\n",
              "    <tr>\n",
              "      <th>32913</th>\n",
              "      <td>31801008</td>\n",
              "      <td></td>\n",
              "    </tr>\n",
              "    <tr>\n",
              "      <th>32914</th>\n",
              "      <td>31852121</td>\n",
              "      <td>&lt;abstract&gt;\\n&lt;abstracttext label=\"BACKGROUND\" n...</td>\n",
              "    </tr>\n",
              "  </tbody>\n",
              "</table>\n",
              "</div>"
            ],
            "text/plain": [
              "             id                                               data\n",
              "32895  31538461  <abstract>\\n<abstracttext>Nonsyndromic cleft l...\n",
              "32896  31593207  <abstract>\\n<abstracttext>Alcohol-induced live...\n",
              "32897  31593705  <abstract>\\n<abstracttext>Taxifolin (TAX) repo...\n",
              "32898  31595778  <abstract>\\n<abstracttext label=\"OBJECTIVE\" nl...\n",
              "32899  31596835                                                   \n",
              "32900  31602838  <abstract>\\n<abstracttext>The aim of this pape...\n",
              "32901  31602840  <abstract>\\n<abstracttext>The study aimed to i...\n",
              "32902  31602841  <abstract>\\n<abstracttext>To study the effects...\n",
              "32903  31602911  <abstract>\\n<abstracttext>Tripterygium wilford...\n",
              "32904  31602916  <abstract>\\n<abstracttext>The aim of this pape...\n",
              "32905  31603634  <abstract>\\n<abstracttext>Drug re-exposure res...\n",
              "32906  31604573                                                   \n",
              "32907  31644632                                                   \n",
              "32908  31720719  <abstract>\\n<abstracttext>In the context of su...\n",
              "32909  31727489                                                   \n",
              "32910  31735450                                                   \n",
              "32911  31801006                                                   \n",
              "32912  31801007                                                   \n",
              "32913  31801008                                                   \n",
              "32914  31852121  <abstract>\\n<abstracttext label=\"BACKGROUND\" n..."
            ]
          },
          "metadata": {
            "tags": []
          },
          "execution_count": 53
        }
      ]
    },
    {
      "cell_type": "code",
      "metadata": {
        "id": "H8Dl_aFSuPSi",
        "colab_type": "code",
        "colab": {}
      },
      "source": [
        "df_abstracts = pd.merge(df_ids, df, on='id')"
      ],
      "execution_count": 0,
      "outputs": []
    },
    {
      "cell_type": "code",
      "metadata": {
        "id": "TDR5ARPMuPSn",
        "colab_type": "code",
        "colab": {}
      },
      "source": [
        "df_abstracts.fillna(0, inplace=True)"
      ],
      "execution_count": 0,
      "outputs": []
    },
    {
      "cell_type": "code",
      "metadata": {
        "id": "hCAjN9SvuPSs",
        "colab_type": "code",
        "colab": {}
      },
      "source": [
        "df_abstracts['label'] = df_abstracts.apply(lambda row: (row.class1, row.class2, row.class3), axis=1)"
      ],
      "execution_count": 0,
      "outputs": []
    },
    {
      "cell_type": "code",
      "metadata": {
        "scrolled": false,
        "id": "rDIyDkwOuPSw",
        "colab_type": "code",
        "outputId": "df415323-55b2-4f96-9bbd-8a822749d696",
        "colab": {
          "base_uri": "https://localhost:8080/",
          "height": 119
        }
      },
      "source": [
        "df_abstracts_non_empty = df_abstracts[df_abstracts.data != '']\n",
        "df_abstracts_non_empty['label'].value_counts()"
      ],
      "execution_count": 0,
      "outputs": [
        {
          "output_type": "execute_result",
          "data": {
            "text/plain": [
              "(1.0, 1.0, 0.0)    6700\n",
              "(0.0, 0.0, 1.0)    6307\n",
              "(1.0, 0.0, 0.0)    5330\n",
              "(1.0, 0.0, 1.0)    1083\n",
              "(1.0, 1.0, 1.0)     294\n",
              "Name: label, dtype: int64"
            ]
          },
          "metadata": {
            "tags": []
          },
          "execution_count": 57
        }
      ]
    },
    {
      "cell_type": "code",
      "metadata": {
        "id": "CjHtfUmluPS0",
        "colab_type": "code",
        "colab": {}
      },
      "source": [
        "abstracts = df_abstracts_non_empty.copy()"
      ],
      "execution_count": 0,
      "outputs": []
    },
    {
      "cell_type": "code",
      "metadata": {
        "id": "4l1ic2G0uPS3",
        "colab_type": "code",
        "colab": {}
      },
      "source": [
        "abstracts.data = abstracts.data.str.replace('<abstract>\\n<abstracttext>', '')\n",
        "abstracts.data = abstracts.data.str.replace('</abstracttext>\\n</abstract>', '')"
      ],
      "execution_count": 0,
      "outputs": []
    },
    {
      "cell_type": "code",
      "metadata": {
        "id": "yw_DKqiCuPS7",
        "colab_type": "code",
        "outputId": "4b6bc37d-7972-457f-b783-018a275f2b43",
        "colab": {
          "base_uri": "https://localhost:8080/",
          "height": 204
        }
      },
      "source": [
        "# data\n",
        "abstracts.head()"
      ],
      "execution_count": 0,
      "outputs": [
        {
          "output_type": "execute_result",
          "data": {
            "text/html": [
              "<div>\n",
              "<style scoped>\n",
              "    .dataframe tbody tr th:only-of-type {\n",
              "        vertical-align: middle;\n",
              "    }\n",
              "\n",
              "    .dataframe tbody tr th {\n",
              "        vertical-align: top;\n",
              "    }\n",
              "\n",
              "    .dataframe thead th {\n",
              "        text-align: right;\n",
              "    }\n",
              "</style>\n",
              "<table border=\"1\" class=\"dataframe\">\n",
              "  <thead>\n",
              "    <tr style=\"text-align: right;\">\n",
              "      <th></th>\n",
              "      <th>id</th>\n",
              "      <th>class1</th>\n",
              "      <th>class2</th>\n",
              "      <th>class3</th>\n",
              "      <th>data</th>\n",
              "      <th>label</th>\n",
              "    </tr>\n",
              "  </thead>\n",
              "  <tbody>\n",
              "    <tr>\n",
              "      <th>7</th>\n",
              "      <td>338</td>\n",
              "      <td>1.0</td>\n",
              "      <td>0.0</td>\n",
              "      <td>0.0</td>\n",
              "      <td>This paper described a Behavior Modification T...</td>\n",
              "      <td>(1.0, 0.0, 0.0)</td>\n",
              "    </tr>\n",
              "    <tr>\n",
              "      <th>12</th>\n",
              "      <td>545</td>\n",
              "      <td>1.0</td>\n",
              "      <td>0.0</td>\n",
              "      <td>1.0</td>\n",
              "      <td>Current research on the effects on offspring o...</td>\n",
              "      <td>(1.0, 0.0, 1.0)</td>\n",
              "    </tr>\n",
              "    <tr>\n",
              "      <th>15</th>\n",
              "      <td>549</td>\n",
              "      <td>1.0</td>\n",
              "      <td>0.0</td>\n",
              "      <td>0.0</td>\n",
              "      <td>Substantial and prolonged withdrawal hyperexci...</td>\n",
              "      <td>(1.0, 0.0, 0.0)</td>\n",
              "    </tr>\n",
              "    <tr>\n",
              "      <th>20</th>\n",
              "      <td>633</td>\n",
              "      <td>1.0</td>\n",
              "      <td>1.0</td>\n",
              "      <td>0.0</td>\n",
              "      <td>The renal papilla has a double blood supply - ...</td>\n",
              "      <td>(1.0, 1.0, 0.0)</td>\n",
              "    </tr>\n",
              "    <tr>\n",
              "      <th>21</th>\n",
              "      <td>657</td>\n",
              "      <td>1.0</td>\n",
              "      <td>1.0</td>\n",
              "      <td>0.0</td>\n",
              "      <td>The authors report 5 cases of shock type anaph...</td>\n",
              "      <td>(1.0, 1.0, 0.0)</td>\n",
              "    </tr>\n",
              "  </tbody>\n",
              "</table>\n",
              "</div>"
            ],
            "text/plain": [
              "     id  ...            label\n",
              "7   338  ...  (1.0, 0.0, 0.0)\n",
              "12  545  ...  (1.0, 0.0, 1.0)\n",
              "15  549  ...  (1.0, 0.0, 0.0)\n",
              "20  633  ...  (1.0, 1.0, 0.0)\n",
              "21  657  ...  (1.0, 1.0, 0.0)\n",
              "\n",
              "[5 rows x 6 columns]"
            ]
          },
          "metadata": {
            "tags": []
          },
          "execution_count": 60
        }
      ]
    },
    {
      "cell_type": "markdown",
      "metadata": {
        "id": "wxxoLrOluPTB",
        "colab_type": "text"
      },
      "source": [
        "A multi-label classification has multiple target values associated with dataset. Here we are predicting probability of each class instead of predicting a single class. For this problem, we have 3 label classes: class1 - other abstracts, class2 - drug_side_effects abstracts, class3 - congenital_abnormalities abstracts. We have to create a model which predicts a probability of each class for each abstract. "
      ]
    },
    {
      "cell_type": "markdown",
      "metadata": {
        "id": "9aI8a6BruPTC",
        "colab_type": "text"
      },
      "source": [
        "### Language model"
      ]
    },
    {
      "cell_type": "code",
      "metadata": {
        "scrolled": true,
        "id": "DH5Z9uSYuPTD",
        "colab_type": "code",
        "outputId": "c0a9aa29-196c-47b7-812f-530bdea7839b",
        "colab": {
          "base_uri": "https://localhost:8080/",
          "height": 306
        }
      },
      "source": [
        "# create databunch\n",
        "data_lm = (TextList.from_df(abstracts, cols='data')\n",
        "                .split_by_rand_pct(0.2, 42)\n",
        "                .label_for_lm()  \n",
        "                .databunch(bs=48))\n",
        "data_lm.show_batch()"
      ],
      "execution_count": 0,
      "outputs": [
        {
          "output_type": "display_data",
          "data": {
            "text/html": [
              ""
            ],
            "text/plain": [
              "<IPython.core.display.HTML object>"
            ]
          },
          "metadata": {
            "tags": []
          }
        },
        {
          "output_type": "display_data",
          "data": {
            "text/html": [
              ""
            ],
            "text/plain": [
              "<IPython.core.display.HTML object>"
            ]
          },
          "metadata": {
            "tags": []
          }
        },
        {
          "output_type": "display_data",
          "data": {
            "text/html": [
              "<table border=\"1\" class=\"dataframe\">\n",
              "  <thead>\n",
              "    <tr style=\"text-align: right;\">\n",
              "      <th>idx</th>\n",
              "      <th>text</th>\n",
              "    </tr>\n",
              "  </thead>\n",
              "  <tbody>\n",
              "    <tr>\n",
              "      <td>0</td>\n",
              "      <td>. xxmaj research interest declined during xxmaj prohibition , and authorities later discounted the previous work . xxmaj recently a relationship between maternal drinking and abnormal morphogenesis has been again described . xxbos xxmaj substantial and prolonged withdrawal hyperexcitability in the neural substrate for affective defense was revealed by behavioral and electrophysiological measures in cats exposed to moderate to heavy doses of alcohol for periods ranging from 6 to 72</td>\n",
              "    </tr>\n",
              "    <tr>\n",
              "      <td>1</td>\n",
              "      <td>thus this is the third such recorded case . xxmaj allopurinol should be suspected when liver abnormalities occur following use of this drug . xxbos xxmaj in a retrospective study of 445 patients with nasal polyps , 95 ( 21 per cent ) had asthma . xxmaj forty - two ( 44 per cent ) of the patients with asthma had been skin tested and 27 ( 60 per cent</td>\n",
              "    </tr>\n",
              "    <tr>\n",
              "      <td>2</td>\n",
              "      <td>of the xxunk xxup tee , xxup xxunk permits the following additional images of the heart : 1 ) xxmaj longitudinal \" two - chamber - view \" for assessment of left ventricular ( xxup lv ) anterior , apical , and posterior wall motion , and for assessment of mitral valve anatomy and function ( e.g. , grading of color flow regurgitation ) . 2 ) xxmaj imaging of</td>\n",
              "    </tr>\n",
              "    <tr>\n",
              "      <td>3</td>\n",
              "      <td>a six - factor orthogonal solution was selected . xxmaj multiple regression analyses supported the established relationships of demographic variables , such as age and sex , with the tardive dyskinesia scores generated by the instrument . xxbos xxmaj the preliminary data on efficacy and safety of oral tocainide in refractory ventricular dysrhythmia in 8 patients is described . xxmaj two patients died ; one within 15 days and the</td>\n",
              "    </tr>\n",
              "    <tr>\n",
              "      <td>4</td>\n",
              "      <td>normal . xxmaj the phenotypes of those with x deletions detectable by flow cytometry were similar to those of patients without such deletions . xxbos xxmaj the autosomal dominant form of polycystic kidney disease ( xxup adpkd ) has been linked to the alpha - globin gene locus on 16p . xxmaj linkage studies between the autosomal recessive type ( xxup arpkd ) and the 3 ' xxup xxunk of</td>\n",
              "    </tr>\n",
              "  </tbody>\n",
              "</table>"
            ],
            "text/plain": [
              "<IPython.core.display.HTML object>"
            ]
          },
          "metadata": {
            "tags": []
          }
        }
      ]
    },
    {
      "cell_type": "code",
      "metadata": {
        "id": "mxF3O8YKuPTG",
        "colab_type": "code",
        "colab": {}
      },
      "source": [
        "# create learner\n",
        "learn = language_model_learner(data_lm, AWD_LSTM, drop_mult=0.3)"
      ],
      "execution_count": 0,
      "outputs": []
    },
    {
      "cell_type": "code",
      "metadata": {
        "id": "JroXY1oguPTI",
        "colab_type": "code",
        "outputId": "1073e0de-a121-42b8-c434-c96b10678b67",
        "colab": {
          "base_uri": "https://localhost:8080/",
          "height": 112
        }
      },
      "source": [
        "# find learning rate\n",
        "learn.lr_find()"
      ],
      "execution_count": 0,
      "outputs": [
        {
          "output_type": "display_data",
          "data": {
            "text/html": [
              "\n",
              "    <div>\n",
              "        <style>\n",
              "            /* Turns off some styling */\n",
              "            progress {\n",
              "                /* gets rid of default border in Firefox and Opera. */\n",
              "                border: none;\n",
              "                /* Needs to be in here for Safari polyfill so background images work as expected. */\n",
              "                background-size: auto;\n",
              "            }\n",
              "            .progress-bar-interrupted, .progress-bar-interrupted::-webkit-progress-bar {\n",
              "                background: #F44336;\n",
              "            }\n",
              "        </style>\n",
              "      <progress value='0' class='' max='1', style='width:300px; height:20px; vertical-align: middle;'></progress>\n",
              "      0.00% [0/1 00:00<00:00]\n",
              "    </div>\n",
              "    \n",
              "<table border=\"1\" class=\"dataframe\">\n",
              "  <thead>\n",
              "    <tr style=\"text-align: left;\">\n",
              "      <th>epoch</th>\n",
              "      <th>train_loss</th>\n",
              "      <th>valid_loss</th>\n",
              "      <th>accuracy</th>\n",
              "      <th>time</th>\n",
              "    </tr>\n",
              "  </thead>\n",
              "  <tbody>\n",
              "  </tbody>\n",
              "</table><p>\n",
              "\n",
              "    <div>\n",
              "        <style>\n",
              "            /* Turns off some styling */\n",
              "            progress {\n",
              "                /* gets rid of default border in Firefox and Opera. */\n",
              "                border: none;\n",
              "                /* Needs to be in here for Safari polyfill so background images work as expected. */\n",
              "                background-size: auto;\n",
              "            }\n",
              "            .progress-bar-interrupted, .progress-bar-interrupted::-webkit-progress-bar {\n",
              "                background: #F44336;\n",
              "            }\n",
              "        </style>\n",
              "      <progress value='99' class='' max='1168', style='width:300px; height:20px; vertical-align: middle;'></progress>\n",
              "      8.48% [99/1168 00:22<04:06 11.7608]\n",
              "    </div>\n",
              "    "
            ],
            "text/plain": [
              "<IPython.core.display.HTML object>"
            ]
          },
          "metadata": {
            "tags": []
          }
        },
        {
          "output_type": "stream",
          "text": [
            "LR Finder is complete, type {learner_name}.recorder.plot() to see the graph.\n"
          ],
          "name": "stdout"
        }
      ]
    },
    {
      "cell_type": "code",
      "metadata": {
        "id": "OJzokPEluPTM",
        "colab_type": "code",
        "outputId": "cd899b76-57e6-403e-f4a1-e0ae2f4c7ff2",
        "colab": {
          "base_uri": "https://localhost:8080/",
          "height": 282
        }
      },
      "source": [
        "learn.recorder.plot()"
      ],
      "execution_count": 0,
      "outputs": [
        {
          "output_type": "display_data",
          "data": {
            "image/png": "[encoded data removed]",
            "text/plain": [
              "<Figure size 432x288 with 1 Axes>"
            ]
          },
          "metadata": {
            "tags": []
          }
        }
      ]
    },
    {
      "cell_type": "code",
      "metadata": {
        "id": "lN7BpHOguPTO",
        "colab_type": "code",
        "outputId": "64ddbd82-505d-4a4f-ca77-e0f118fc0e38",
        "colab": {
          "base_uri": "https://localhost:8080/",
          "height": 80
        }
      },
      "source": [
        "#fit the model to our data\n",
        "learn.fit_one_cycle(1, 1e-2, moms=(0.8,0.7))"
      ],
      "execution_count": 0,
      "outputs": [
        {
          "output_type": "display_data",
          "data": {
            "text/html": [
              "<table border=\"1\" class=\"dataframe\">\n",
              "  <thead>\n",
              "    <tr style=\"text-align: left;\">\n",
              "      <th>epoch</th>\n",
              "      <th>train_loss</th>\n",
              "      <th>valid_loss</th>\n",
              "      <th>accuracy</th>\n",
              "      <th>time</th>\n",
              "    </tr>\n",
              "  </thead>\n",
              "  <tbody>\n",
              "    <tr>\n",
              "      <td>0</td>\n",
              "      <td>3.854535</td>\n",
              "      <td>3.586573</td>\n",
              "      <td>0.372885</td>\n",
              "      <td>05:10</td>\n",
              "    </tr>\n",
              "  </tbody>\n",
              "</table>"
            ],
            "text/plain": [
              "<IPython.core.display.HTML object>"
            ]
          },
          "metadata": {
            "tags": []
          }
        }
      ]
    },
    {
      "cell_type": "code",
      "metadata": {
        "id": "Z88XgqoiuPTQ",
        "colab_type": "code",
        "colab": {}
      },
      "source": [
        "learn.unfreeze()"
      ],
      "execution_count": 0,
      "outputs": []
    },
    {
      "cell_type": "code",
      "metadata": {
        "scrolled": true,
        "id": "X2JF1bkBuPTS",
        "colab_type": "code",
        "outputId": "6ad9802c-4d32-4fef-b341-a3dca684d910",
        "colab": {
          "base_uri": "https://localhost:8080/",
          "height": 359
        }
      },
      "source": [
        "learn.fit_one_cycle(10, 1e-3, moms=(0.8,0.7))"
      ],
      "execution_count": 0,
      "outputs": [
        {
          "output_type": "display_data",
          "data": {
            "text/html": [
              "<table border=\"1\" class=\"dataframe\">\n",
              "  <thead>\n",
              "    <tr style=\"text-align: left;\">\n",
              "      <th>epoch</th>\n",
              "      <th>train_loss</th>\n",
              "      <th>valid_loss</th>\n",
              "      <th>accuracy</th>\n",
              "      <th>time</th>\n",
              "    </tr>\n",
              "  </thead>\n",
              "  <tbody>\n",
              "    <tr>\n",
              "      <td>0</td>\n",
              "      <td>3.409118</td>\n",
              "      <td>3.442203</td>\n",
              "      <td>0.388160</td>\n",
              "      <td>06:04</td>\n",
              "    </tr>\n",
              "    <tr>\n",
              "      <td>1</td>\n",
              "      <td>3.307297</td>\n",
              "      <td>3.363883</td>\n",
              "      <td>0.396853</td>\n",
              "      <td>06:02</td>\n",
              "    </tr>\n",
              "    <tr>\n",
              "      <td>2</td>\n",
              "      <td>3.228161</td>\n",
              "      <td>3.315794</td>\n",
              "      <td>0.401890</td>\n",
              "      <td>06:02</td>\n",
              "    </tr>\n",
              "    <tr>\n",
              "      <td>3</td>\n",
              "      <td>3.084427</td>\n",
              "      <td>3.286897</td>\n",
              "      <td>0.404880</td>\n",
              "      <td>06:02</td>\n",
              "    </tr>\n",
              "    <tr>\n",
              "      <td>4</td>\n",
              "      <td>2.925977</td>\n",
              "      <td>3.281210</td>\n",
              "      <td>0.406453</td>\n",
              "      <td>06:03</td>\n",
              "    </tr>\n",
              "    <tr>\n",
              "      <td>5</td>\n",
              "      <td>2.756144</td>\n",
              "      <td>3.293452</td>\n",
              "      <td>0.407129</td>\n",
              "      <td>06:02</td>\n",
              "    </tr>\n",
              "    <tr>\n",
              "      <td>6</td>\n",
              "      <td>2.604333</td>\n",
              "      <td>3.317221</td>\n",
              "      <td>0.405581</td>\n",
              "      <td>06:03</td>\n",
              "    </tr>\n",
              "    <tr>\n",
              "      <td>7</td>\n",
              "      <td>2.417707</td>\n",
              "      <td>3.352296</td>\n",
              "      <td>0.403450</td>\n",
              "      <td>06:03</td>\n",
              "    </tr>\n",
              "    <tr>\n",
              "      <td>8</td>\n",
              "      <td>2.329478</td>\n",
              "      <td>3.377358</td>\n",
              "      <td>0.402361</td>\n",
              "      <td>06:02</td>\n",
              "    </tr>\n",
              "    <tr>\n",
              "      <td>9</td>\n",
              "      <td>2.264380</td>\n",
              "      <td>3.391056</td>\n",
              "      <td>0.401629</td>\n",
              "      <td>06:03</td>\n",
              "    </tr>\n",
              "  </tbody>\n",
              "</table>"
            ],
            "text/plain": [
              "<IPython.core.display.HTML object>"
            ]
          },
          "metadata": {
            "tags": []
          }
        }
      ]
    },
    {
      "cell_type": "code",
      "metadata": {
        "id": "i-lBkp-iuPTV",
        "colab_type": "code",
        "colab": {}
      },
      "source": [
        "learn.save('lm_learner_tuned')"
      ],
      "execution_count": 0,
      "outputs": []
    },
    {
      "cell_type": "code",
      "metadata": {
        "id": "FmIh2ODPuPTX",
        "colab_type": "code",
        "colab": {}
      },
      "source": [
        "# save the encoder for use in classification\n",
        "learn.save_encoder('lm_learner_tuned_enc')"
      ],
      "execution_count": 0,
      "outputs": []
    },
    {
      "cell_type": "markdown",
      "metadata": {
        "id": "qYS2FBx4uPTe",
        "colab_type": "text"
      },
      "source": [
        "### Classifier model"
      ]
    },
    {
      "cell_type": "code",
      "metadata": {
        "id": "tDqTbLFcuPTf",
        "colab_type": "code",
        "outputId": "6acde16a-0f6e-4ab0-d90f-23769511ea5e",
        "colab": {
          "base_uri": "https://localhost:8080/",
          "height": 357
        }
      },
      "source": [
        "#label list\n",
        "label_cols = ['class1', 'class2', 'class3']\n",
        "\n",
        "data_clas = (TextList.from_df(abstracts, cols='data', vocab=data_lm.vocab)\n",
        "             .split_by_rand_pct(0.2, 42)\n",
        "             .label_from_df(cols=label_cols , classes=label_cols)\n",
        "             .databunch(bs=48))\n",
        "\n",
        "data_clas.show_batch()"
      ],
      "execution_count": 0,
      "outputs": [
        {
          "output_type": "display_data",
          "data": {
            "text/html": [
              ""
            ],
            "text/plain": [
              "<IPython.core.display.HTML object>"
            ]
          },
          "metadata": {
            "tags": []
          }
        },
        {
          "output_type": "display_data",
          "data": {
            "text/html": [
              ""
            ],
            "text/plain": [
              "<IPython.core.display.HTML object>"
            ]
          },
          "metadata": {
            "tags": []
          }
        },
        {
          "output_type": "display_data",
          "data": {
            "text/html": [
              "<table border=\"1\" class=\"dataframe\">\n",
              "  <thead>\n",
              "    <tr style=\"text-align: right;\">\n",
              "      <th>text</th>\n",
              "      <th>target</th>\n",
              "    </tr>\n",
              "  </thead>\n",
              "  <tbody>\n",
              "    <tr>\n",
              "      <td>xxbos &lt; abstract &gt; \\n  &lt; abstracttext label=\"background\"&gt;medication - related adverse events in primary care represent an important cause of hospital admissions and mortality . xxmaj adverse events could result from people experiencing adverse drug reactions ( not usually preventable ) or could be due to medication errors ( usually preventable ) . &lt; / abstracttext &gt; \\n  &lt; abstracttext label=\"objectives\"&gt;to determine the effectiveness of professional , organisational</td>\n",
              "      <td>class1;class2</td>\n",
              "    </tr>\n",
              "    <tr>\n",
              "      <td>xxbos &lt; abstract &gt; \\n  &lt; abstracttext label=\"study xxup design \" nlmcategory=\"methods\"&gt;a prospective comparative analysis of surgically - treated xxunk primary pyogenic infection of the spine ( xxup ppis ) . &lt; / abstracttext &gt; \\n  &lt; abstracttext label=\"objective \" nlmcategory=\"objective\"&gt;to evaluate and compare the demographics , presentation , treatment and outcomes of surgically - treated xxup ppis between intravenous drug users ( xxup ivdu ) and non</td>\n",
              "      <td>class1</td>\n",
              "    </tr>\n",
              "    <tr>\n",
              "      <td>xxbos &lt; abstract &gt; \\n  &lt; abstracttext label=\"context \" nlmcategory=\"background\"&gt;paracetamol ( acetaminophen ) poisoning is the most common cause of acute liver failure in the developed world . a paracetamol treatment nomogram has been used for over four decades to help determine whether patients will develop hepatotoxicity without acetylcysteine treatment , and thus indicates those needing treatment . xxmaj despite this , a small proportion of patients still develop</td>\n",
              "      <td>class1;class2</td>\n",
              "    </tr>\n",
              "    <tr>\n",
              "      <td>xxbos xxmaj several lines of evidence imply alterations in adenosine signaling in xxmaj parkinson 's disease ( xxup pd ) . xxmaj here , we investigated cerebral changes in adenosine xxup 2a receptor ( a &lt; sub&gt;2a &lt; / sub &gt; r ) availability in 6-hydroxydopamine ( 6-ohda)-lesioned rats with and without levodopa - induced dyskinesia ( xxup lid ) using positron - emission tomography ( xxup pet ) with</td>\n",
              "      <td>class1;class2</td>\n",
              "    </tr>\n",
              "    <tr>\n",
              "      <td>xxbos &lt; abstract &gt; \\n  &lt; abstracttext label=\"background \" xxunk medical record ( xxup emr ) screening for indicators of medication risk could improve efficiency in identifying primary care clinic patients in need of clinical pharmacist care compared with patient self - reporting . &lt; / abstracttext &gt; \\n  &lt; abstracttext label=\"objectives \" nlmcategory=\"objective\"&gt;to ( a ) compare the performance of an xxup emr medication risk assessment questionnaire</td>\n",
              "      <td>class1;class2</td>\n",
              "    </tr>\n",
              "  </tbody>\n",
              "</table>"
            ],
            "text/plain": [
              "<IPython.core.display.HTML object>"
            ]
          },
          "metadata": {
            "tags": []
          }
        }
      ]
    },
    {
      "cell_type": "code",
      "metadata": {
        "id": "WtGOT6xJuPTh",
        "colab_type": "code",
        "colab": {}
      },
      "source": [
        "# metrics\n",
        "acc_02 = partial(accuracy_thresh, thresh=0.2)\n",
        "f_score = partial(fbeta, thresh=0.2)"
      ],
      "execution_count": 0,
      "outputs": []
    },
    {
      "cell_type": "code",
      "metadata": {
        "id": "99VBjvZAuPTj",
        "colab_type": "code",
        "colab": {}
      },
      "source": [
        "learn_classifier = text_classifier_learner(data_clas, AWD_LSTM, drop_mult=0.5, metrics=[acc_02, f_score])"
      ],
      "execution_count": 0,
      "outputs": []
    },
    {
      "cell_type": "code",
      "metadata": {
        "id": "q2DcvXSjuPTl",
        "colab_type": "code",
        "colab": {}
      },
      "source": [
        "learn_classifier.load_encoder('lm_learner_tuned_enc')"
      ],
      "execution_count": 0,
      "outputs": []
    },
    {
      "cell_type": "code",
      "metadata": {
        "id": "vagZhMSduPTn",
        "colab_type": "code",
        "colab": {}
      },
      "source": [
        "learn_classifier.freeze()"
      ],
      "execution_count": 0,
      "outputs": []
    },
    {
      "cell_type": "code",
      "metadata": {
        "id": "17SumRevuPTp",
        "colab_type": "code",
        "outputId": "1031ec72-e913-4f4a-de72-f74da39ce160",
        "colab": {
          "base_uri": "https://localhost:8080/",
          "height": 112
        }
      },
      "source": [
        "learn_classifier.lr_find()"
      ],
      "execution_count": 0,
      "outputs": [
        {
          "output_type": "display_data",
          "data": {
            "text/html": [
              "\n",
              "    <div>\n",
              "        <style>\n",
              "            /* Turns off some styling */\n",
              "            progress {\n",
              "                /* gets rid of default border in Firefox and Opera. */\n",
              "                border: none;\n",
              "                /* Needs to be in here for Safari polyfill so background images work as expected. */\n",
              "                background-size: auto;\n",
              "            }\n",
              "            .progress-bar-interrupted, .progress-bar-interrupted::-webkit-progress-bar {\n",
              "                background: #F44336;\n",
              "            }\n",
              "        </style>\n",
              "      <progress value='0' class='' max='1', style='width:300px; height:20px; vertical-align: middle;'></progress>\n",
              "      0.00% [0/1 00:00<00:00]\n",
              "    </div>\n",
              "    \n",
              "<table border=\"1\" class=\"dataframe\">\n",
              "  <thead>\n",
              "    <tr style=\"text-align: left;\">\n",
              "      <th>epoch</th>\n",
              "      <th>train_loss</th>\n",
              "      <th>valid_loss</th>\n",
              "      <th>accuracy_thresh</th>\n",
              "      <th>fbeta</th>\n",
              "      <th>time</th>\n",
              "    </tr>\n",
              "  </thead>\n",
              "  <tbody>\n",
              "  </tbody>\n",
              "</table><p>\n",
              "\n",
              "    <div>\n",
              "        <style>\n",
              "            /* Turns off some styling */\n",
              "            progress {\n",
              "                /* gets rid of default border in Firefox and Opera. */\n",
              "                border: none;\n",
              "                /* Needs to be in here for Safari polyfill so background images work as expected. */\n",
              "                background-size: auto;\n",
              "            }\n",
              "            .progress-bar-interrupted, .progress-bar-interrupted::-webkit-progress-bar {\n",
              "                background: #F44336;\n",
              "            }\n",
              "        </style>\n",
              "      <progress value='95' class='' max='328', style='width:300px; height:20px; vertical-align: middle;'></progress>\n",
              "      28.96% [95/328 00:22<00:56 1.7822]\n",
              "    </div>\n",
              "    "
            ],
            "text/plain": [
              "<IPython.core.display.HTML object>"
            ]
          },
          "metadata": {
            "tags": []
          }
        },
        {
          "output_type": "stream",
          "text": [
            "LR Finder is complete, type {learner_name}.recorder.plot() to see the graph.\n"
          ],
          "name": "stdout"
        }
      ]
    },
    {
      "cell_type": "code",
      "metadata": {
        "id": "HUJ7EDKcuPTr",
        "colab_type": "code",
        "outputId": "be5fdf8e-9840-4819-f9c3-fd9353b472da",
        "colab": {
          "base_uri": "https://localhost:8080/",
          "height": 279
        }
      },
      "source": [
        "learn_classifier.recorder.plot()"
      ],
      "execution_count": 0,
      "outputs": [
        {
          "output_type": "display_data",
          "data": {
            "image/png": "[encoded data removed]",
            "text/plain": [
              "<Figure size 432x288 with 1 Axes>"
            ]
          },
          "metadata": {
            "tags": []
          }
        }
      ]
    },
    {
      "cell_type": "code",
      "metadata": {
        "id": "RFFGZcgWuPTt",
        "colab_type": "code",
        "outputId": "680bbf08-2d8f-4891-f277-b94739b52c82",
        "colab": {
          "base_uri": "https://localhost:8080/",
          "height": 80
        }
      },
      "source": [
        "learn_classifier.fit_one_cycle(1, 2e-2, moms=(0.8,0.7))"
      ],
      "execution_count": 0,
      "outputs": [
        {
          "output_type": "display_data",
          "data": {
            "text/html": [
              "<table border=\"1\" class=\"dataframe\">\n",
              "  <thead>\n",
              "    <tr style=\"text-align: left;\">\n",
              "      <th>epoch</th>\n",
              "      <th>train_loss</th>\n",
              "      <th>valid_loss</th>\n",
              "      <th>accuracy_thresh</th>\n",
              "      <th>fbeta</th>\n",
              "      <th>time</th>\n",
              "    </tr>\n",
              "  </thead>\n",
              "  <tbody>\n",
              "    <tr>\n",
              "      <td>0</td>\n",
              "      <td>0.256958</td>\n",
              "      <td>0.204400</td>\n",
              "      <td>0.887113</td>\n",
              "      <td>0.934206</td>\n",
              "      <td>01:40</td>\n",
              "    </tr>\n",
              "  </tbody>\n",
              "</table>"
            ],
            "text/plain": [
              "<IPython.core.display.HTML object>"
            ]
          },
          "metadata": {
            "tags": []
          }
        }
      ]
    },
    {
      "cell_type": "code",
      "metadata": {
        "scrolled": true,
        "id": "sSjGwyEFuPTx",
        "colab_type": "code",
        "outputId": "154e21a3-00f2-4bb0-deeb-98b187201130",
        "colab": {
          "base_uri": "https://localhost:8080/",
          "height": 80
        }
      },
      "source": [
        "learn_classifier.freeze_to(-2)\n",
        "learn_classifier.fit_one_cycle(1, slice(1e-2/(2.6**4),1e-2), moms=(0.8,0.7))"
      ],
      "execution_count": 0,
      "outputs": [
        {
          "output_type": "display_data",
          "data": {
            "text/html": [
              "<table border=\"1\" class=\"dataframe\">\n",
              "  <thead>\n",
              "    <tr style=\"text-align: left;\">\n",
              "      <th>epoch</th>\n",
              "      <th>train_loss</th>\n",
              "      <th>valid_loss</th>\n",
              "      <th>accuracy_thresh</th>\n",
              "      <th>fbeta</th>\n",
              "      <th>time</th>\n",
              "    </tr>\n",
              "  </thead>\n",
              "  <tbody>\n",
              "    <tr>\n",
              "      <td>0</td>\n",
              "      <td>0.217733</td>\n",
              "      <td>0.178052</td>\n",
              "      <td>0.914341</td>\n",
              "      <td>0.946586</td>\n",
              "      <td>01:56</td>\n",
              "    </tr>\n",
              "  </tbody>\n",
              "</table>"
            ],
            "text/plain": [
              "<IPython.core.display.HTML object>"
            ]
          },
          "metadata": {
            "tags": []
          }
        }
      ]
    },
    {
      "cell_type": "code",
      "metadata": {
        "id": "pPL6CELEuPT1",
        "colab_type": "code",
        "outputId": "00d49dc8-6f2b-4835-aa29-a4c6b975ff34",
        "colab": {
          "base_uri": "https://localhost:8080/",
          "height": 80
        }
      },
      "source": [
        "learn_classifier.freeze_to(-3)\n",
        "learn_classifier.fit_one_cycle(1, slice(5e-3/(2.6**4),5e-3), moms=(0.8,0.7))"
      ],
      "execution_count": 0,
      "outputs": [
        {
          "output_type": "display_data",
          "data": {
            "text/html": [
              "<table border=\"1\" class=\"dataframe\">\n",
              "  <thead>\n",
              "    <tr style=\"text-align: left;\">\n",
              "      <th>epoch</th>\n",
              "      <th>train_loss</th>\n",
              "      <th>valid_loss</th>\n",
              "      <th>accuracy_thresh</th>\n",
              "      <th>fbeta</th>\n",
              "      <th>time</th>\n",
              "    </tr>\n",
              "  </thead>\n",
              "  <tbody>\n",
              "    <tr>\n",
              "      <td>0</td>\n",
              "      <td>0.163236</td>\n",
              "      <td>0.143029</td>\n",
              "      <td>0.933029</td>\n",
              "      <td>0.957367</td>\n",
              "      <td>03:23</td>\n",
              "    </tr>\n",
              "  </tbody>\n",
              "</table>"
            ],
            "text/plain": [
              "<IPython.core.display.HTML object>"
            ]
          },
          "metadata": {
            "tags": []
          }
        }
      ]
    },
    {
      "cell_type": "code",
      "metadata": {
        "id": "22WBzTeizvT6",
        "colab_type": "code",
        "outputId": "838f47b3-b1fd-42de-f0e0-6977e3d50c3c",
        "colab": {
          "base_uri": "https://localhost:8080/",
          "height": 111
        }
      },
      "source": [
        "learn_classifier.unfreeze()\n",
        "learn_classifier.fit_one_cycle(2, slice(1e-3/(2.6**4),1e-3), moms=(0.8,0.7))"
      ],
      "execution_count": 0,
      "outputs": [
        {
          "output_type": "display_data",
          "data": {
            "text/html": [
              "<table border=\"1\" class=\"dataframe\">\n",
              "  <thead>\n",
              "    <tr style=\"text-align: left;\">\n",
              "      <th>epoch</th>\n",
              "      <th>train_loss</th>\n",
              "      <th>valid_loss</th>\n",
              "      <th>accuracy_thresh</th>\n",
              "      <th>fbeta</th>\n",
              "      <th>time</th>\n",
              "    </tr>\n",
              "  </thead>\n",
              "  <tbody>\n",
              "    <tr>\n",
              "      <td>0</td>\n",
              "      <td>0.127882</td>\n",
              "      <td>0.142494</td>\n",
              "      <td>0.940808</td>\n",
              "      <td>0.959273</td>\n",
              "      <td>04:13</td>\n",
              "    </tr>\n",
              "    <tr>\n",
              "      <td>1</td>\n",
              "      <td>0.134207</td>\n",
              "      <td>0.136850</td>\n",
              "      <td>0.940132</td>\n",
              "      <td>0.957842</td>\n",
              "      <td>04:21</td>\n",
              "    </tr>\n",
              "  </tbody>\n",
              "</table>"
            ],
            "text/plain": [
              "<IPython.core.display.HTML object>"
            ]
          },
          "metadata": {
            "tags": []
          }
        }
      ]
    },
    {
      "cell_type": "code",
      "metadata": {
        "id": "GbWq6U7nuPTz",
        "colab_type": "code",
        "outputId": "f6ebd830-5768-4a3c-f344-ca6602706470",
        "colab": {
          "base_uri": "https://localhost:8080/",
          "height": 374
        }
      },
      "source": [
        "learn_classifier.show_results()"
      ],
      "execution_count": 0,
      "outputs": [
        {
          "output_type": "display_data",
          "data": {
            "text/html": [
              "<table border=\"1\" class=\"dataframe\">\n",
              "  <thead>\n",
              "    <tr style=\"text-align: right;\">\n",
              "      <th>text</th>\n",
              "      <th>target</th>\n",
              "      <th>prediction</th>\n",
              "    </tr>\n",
              "  </thead>\n",
              "  <tbody>\n",
              "    <tr>\n",
              "      <td>xxbos &lt; abstract &gt; \\n  &lt; abstracttext label=\"objective \" nlmcategory=\"objective\"&gt;to provide information to genetic counsellors , midwives , nurses , and physicians who are involved in the prenatal care of women dealing with prenatally diagnosed isolated or multiple structural congenital anomalies . &lt; / abstracttext &gt; \\n  &lt; abstracttext label=\"outcomes \" nlmcategory=\"results\"&gt;to provide better counselling for women and families who are dealing with the diagnosis of a fetal</td>\n",
              "      <td>class3</td>\n",
              "      <td>class3</td>\n",
              "    </tr>\n",
              "    <tr>\n",
              "      <td>xxbos &lt; abstract &gt; \\n  &lt; abstracttext label=\"unlabelled\"&gt;the number of young alcoholics increased rapidly around xxmaj tokyo during these several years has resulted in the emergence of xxup aa ( xxmaj alcoholics xxmaj anonymous ) groups consisting mainly of xxunk 30-year - olds . xxmaj it is well known , however , that young alcoholics are difficult to be treated in traditional alcoholic wards where most of the patients</td>\n",
              "      <td>class1</td>\n",
              "      <td>class1</td>\n",
              "    </tr>\n",
              "    <tr>\n",
              "      <td>xxbos xxmaj drugs of the xxmaj benzodiazepine family are among the most frequently prescribed in xxmaj france . xxmaj since anxiety disorders , for which these substances are mostly indicated , affect 10 % of pregnant women , it is very likely that such a treatment could expose many foetuses to xxup bzd during the first three xxmaj months of pregnancy . xxmaj we know that the teratologic effect is</td>\n",
              "      <td>class1;class3</td>\n",
              "      <td>class1;class3</td>\n",
              "    </tr>\n",
              "    <tr>\n",
              "      <td>xxbos &lt; abstract &gt; \\n  &lt; abstracttext label=\"objective \" nlmcategory=\"objective\"&gt;to evaluate the clinical profiles , image findings and surgical outcome of 155 cases of spinal dysraphism . &lt; / abstracttext &gt; \\n  &lt; abstracttext label=\"methods \" xxunk patients were studied prospectively ( 143 ) or retrospectively ( 12 ) . xxmaj the male to female ratio was xxunk . xxmaj mean age at presentation was 5.7 years .</td>\n",
              "      <td>class3</td>\n",
              "      <td>class3</td>\n",
              "    </tr>\n",
              "    <tr>\n",
              "      <td>xxbos &lt; abstract &gt; \\n  &lt; abstracttext label=\"background \" nlmcategory=\"background\"&gt;this study aims to evaluate the reduction of cardiac radiation dose and volume with deep inspiration breath hold ( xxup dibh ) technique compared to free breathing ( xxup xxunk ) in patients with left - sided breast cancer . xxmaj the study also aims to evaluate whether the benefits of xxup dibh vary in patients who had whole breast</td>\n",
              "      <td>class1;class2</td>\n",
              "      <td>class1</td>\n",
              "    </tr>\n",
              "  </tbody>\n",
              "</table>"
            ],
            "text/plain": [
              "<IPython.core.display.HTML object>"
            ]
          },
          "metadata": {
            "tags": []
          }
        }
      ]
    }
  ]
}