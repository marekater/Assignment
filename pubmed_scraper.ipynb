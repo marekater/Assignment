{
  "nbformat": 4,
  "nbformat_minor": 0,
  "metadata": {
    "kernelspec": {
      "display_name": "Python 3",
      "language": "python",
      "name": "python3"
    },
    "language_info": {
      "codemirror_mode": {
        "name": "ipython",
        "version": 3
      },
      "file_extension": ".py",
      "mimetype": "text/x-python",
      "name": "python",
      "nbconvert_exporter": "python",
      "pygments_lexer": "ipython3",
      "version": "3.7.5"
    },
    "toc": {
      "base_numbering": 1,
      "nav_menu": {},
      "number_sections": false,
      "sideBar": true,
      "skip_h1_title": false,
      "title_cell": "Table of Contents",
      "title_sidebar": "Contents",
      "toc_cell": true,
      "toc_position": {
        "height": "calc(100% - 180px)",
        "left": "10px",
        "top": "150px",
        "width": "180.2px"
      },
      "toc_section_display": true,
      "toc_window_display": true
    },
    "colab": {
      "name": "pubmed_scraper.ipynb",
      "provenance": []
    }
  },
  "cells": [
    {
      "cell_type": "markdown",
      "metadata": {
        "toc": true,
        "id": "NxiGeYOqQ9_X",
        "colab_type": "text"
      },
      "source": [
        "<h1>Table of Contents<span class=\"tocSkip\"></span></h1>\n",
        "<div class=\"toc\"><ul class=\"toc-item\"><li><span><a href=\"#entrez-functions\" data-toc-modified-id=\"entrez-functions-1\">entrez functions</a></span></li><li><span><a href=\"#database-functions\" data-toc-modified-id=\"database-functions-2\">database functions</a></span></li><li><span><a href=\"#retrieve-ids\" data-toc-modified-id=\"retrieve-ids-3\">retrieve ids</a></span></li><li><span><a href=\"#save-ids-to-db\" data-toc-modified-id=\"save-ids-to-db-4\">save ids to db</a></span></li><li><span><a href=\"#ids-intersection\" data-toc-modified-id=\"ids-intersection-5\">ids intersection</a></span></li><li><span><a href=\"#retrieve-abstracts\" data-toc-modified-id=\"retrieve-abstracts-6\">retrieve abstracts</a></span></li></ul></div>"
      ]
    },
    {
      "cell_type": "code",
      "metadata": {
        "id": "m8m3GDDXQ9_g",
        "colab_type": "code",
        "colab": {}
      },
      "source": [
        "import bs4 as bs\n",
        "import urllib.request\n",
        "from IPython.core.display import HTML\n",
        "from time import sleep\n",
        "import sqlite3"
      ],
      "execution_count": 0,
      "outputs": []
    },
    {
      "cell_type": "code",
      "metadata": {
        "id": "qAAuAO5DQ9_u",
        "colab_type": "code",
        "colab": {}
      },
      "source": [
        "mesh_chemically_induced_disorders = '( \"Chemically-Induced Disorders/administration and dosage\"[Majr] OR  \"Chemically-Induced Disorders/adverse effects\"[Majr] OR  \"Chemically-Induced Disorders/analysis\"[Majr] OR  \"Chemically-Induced Disorders/anatomy and histology\"[Majr] OR  \"Chemically-Induced Disorders/blood\"[Majr] OR  \"Chemically-Induced Disorders/cerebrospinal fluid\"[Majr] OR  \"Chemically-Induced Disorders/chemically induced\"[Majr] OR  \"Chemically-Induced Disorders/chemistry\"[Majr] OR  \"Chemically-Induced Disorders/classification\"[Majr] OR  \"Chemically-Induced Disorders/complications\"[Majr] OR  \"Chemically-Induced Disorders/congenital\"[Majr] OR  \"Chemically-Induced Disorders/cytology\"[Majr] OR  \"Chemically-Induced Disorders/diagnosis\"[Majr] OR  \"Chemically-Induced Disorders/diagnostic imaging\"[Majr] OR  \"Chemically-Induced Disorders/diet therapy\"[Majr] OR  \"Chemically-Induced Disorders/drug effects\"[Majr] OR  \"Chemically-Induced Disorders/drug therapy\"[Majr] OR  \"Chemically-Induced Disorders/economics\"[Majr] OR  \"Chemically-Induced Disorders/education\"[Majr] OR  \"Chemically-Induced Disorders/embryology\"[Majr] OR  \"Chemically-Induced Disorders/enzymology\"[Majr] OR  \"Chemically-Induced Disorders/epidemiology\"[Majr] OR  \"Chemically-Induced Disorders/ethnology\"[Majr] OR  \"Chemically-Induced Disorders/etiology\"[Majr] OR  \"Chemically-Induced Disorders/genetics\"[Majr] OR  \"Chemically-Induced Disorders/history\"[Majr] OR  \"Chemically-Induced Disorders/immunology\"[Majr] OR  \"Chemically-Induced Disorders/legislation and jurisprudence\"[Majr] OR  \"Chemically-Induced Disorders/metabolism\"[Majr] OR  \"Chemically-Induced Disorders/methods\"[Majr] OR  \"Chemically-Induced Disorders/microbiology\"[Majr] OR  \"Chemically-Induced Disorders/mortality\"[Majr] OR  \"Chemically-Induced Disorders/nursing\"[Majr] OR  \"Chemically-Induced Disorders/organization and administration\"[Majr] OR  \"Chemically-Induced Disorders/parasitology\"[Majr] OR  \"Chemically-Induced Disorders/pathology\"[Majr] OR  \"Chemically-Induced Disorders/pharmacology\"[Majr] OR  \"Chemically-Induced Disorders/physiology\"[Majr] OR  \"Chemically-Induced Disorders/physiopathology\"[Majr] OR  \"Chemically-Induced Disorders/prevention and control\"[Majr] OR  \"Chemically-Induced Disorders/psychology\"[Majr] OR  \"Chemically-Induced Disorders/radiation effects\"[Majr] OR  \"Chemically-Induced Disorders/radiotherapy\"[Majr] OR  \"Chemically-Induced Disorders/rehabilitation\"[Majr] OR  \"Chemically-Induced Disorders/standards\"[Majr] OR  \"Chemically-Induced Disorders/statistics and numerical data\"[Majr] OR  \"Chemically-Induced Disorders/surgery\"[Majr] OR  \"Chemically-Induced Disorders/therapeutic use\"[Majr] OR  \"Chemically-Induced Disorders/therapy\"[Majr] OR  \"Chemically-Induced Disorders/toxicity\"[Majr] OR  \"Chemically-Induced Disorders/transmission\"[Majr] OR  \"Chemically-Induced Disorders/trends\"[Majr] OR  \"Chemically-Induced Disorders/ultrastructure\"[Majr] OR  \"Chemically-Induced Disorders/urine\"[Majr] OR  \"Chemically-Induced Disorders/veterinary\"[Majr] OR  \"Chemically-Induced Disorders/virology\"[Majr] )'\n",
        "mesh_drug_side_effects = '( \"Drug-Related Side Effects and Adverse Reactions/analysis\"[Majr] OR  \"Drug-Related Side Effects and Adverse Reactions/anatomy and histology\"[Majr] OR  \"Drug-Related Side Effects and Adverse Reactions/blood\"[Majr] OR  \"Drug-Related Side Effects and Adverse Reactions/cerebrospinal fluid\"[Majr] OR  \"Drug-Related Side Effects and Adverse Reactions/chemically induced\"[Majr] OR  \"Drug-Related Side Effects and Adverse Reactions/classification\"[Majr] OR  \"Drug-Related Side Effects and Adverse Reactions/complications\"[Majr] OR  \"Drug-Related Side Effects and Adverse Reactions/congenital\"[Majr] OR  \"Drug-Related Side Effects and Adverse Reactions/diagnosis\"[Majr] OR  \"Drug-Related Side Effects and Adverse Reactions/diagnostic imaging\"[Majr] OR  \"Drug-Related Side Effects and Adverse Reactions/diet therapy\"[Majr] OR  \"Drug-Related Side Effects and Adverse Reactions/drug effects\"[Majr] OR  \"Drug-Related Side Effects and Adverse Reactions/drug therapy\"[Majr] OR  \"Drug-Related Side Effects and Adverse Reactions/economics\"[Majr] OR  \"Drug-Related Side Effects and Adverse Reactions/embryology\"[Majr] OR  \"Drug-Related Side Effects and Adverse Reactions/enzymology\"[Majr] OR  \"Drug-Related Side Effects and Adverse Reactions/epidemiology\"[Majr] OR  \"Drug-Related Side Effects and Adverse Reactions/ethnology\"[Majr] OR  \"Drug-Related Side Effects and Adverse Reactions/etiology\"[Majr] OR  \"Drug-Related Side Effects and Adverse Reactions/genetics\"[Majr] OR  \"Drug-Related Side Effects and Adverse Reactions/history\"[Majr] OR  \"Drug-Related Side Effects and Adverse Reactions/immunology\"[Majr] OR  \"Drug-Related Side Effects and Adverse Reactions/metabolism\"[Majr] OR  \"Drug-Related Side Effects and Adverse Reactions/microbiology\"[Majr] OR  \"Drug-Related Side Effects and Adverse Reactions/mortality\"[Majr] OR  \"Drug-Related Side Effects and Adverse Reactions/nursing\"[Majr] OR  \"Drug-Related Side Effects and Adverse Reactions/organization and administration\"[Majr] OR  \"Drug-Related Side Effects and Adverse Reactions/parasitology\"[Majr] OR  \"Drug-Related Side Effects and Adverse Reactions/pathology\"[Majr] OR  \"Drug-Related Side Effects and Adverse Reactions/physiology\"[Majr] OR  \"Drug-Related Side Effects and Adverse Reactions/physiopathology\"[Majr] OR  \"Drug-Related Side Effects and Adverse Reactions/prevention and control\"[Majr] OR  \"Drug-Related Side Effects and Adverse Reactions/psychology\"[Majr] OR  \"Drug-Related Side Effects and Adverse Reactions/radiotherapy\"[Majr] OR  \"Drug-Related Side Effects and Adverse Reactions/rehabilitation\"[Majr] OR  \"Drug-Related Side Effects and Adverse Reactions/statistics and numerical data\"[Majr] OR  \"Drug-Related Side Effects and Adverse Reactions/surgery\"[Majr] OR  \"Drug-Related Side Effects and Adverse Reactions/therapy\"[Majr] OR  \"Drug-Related Side Effects and Adverse Reactions/transmission\"[Majr] OR  \"Drug-Related Side Effects and Adverse Reactions/urine\"[Majr] OR  \"Drug-Related Side Effects and Adverse Reactions/veterinary\"[Majr] OR  \"Drug-Related Side Effects and Adverse Reactions/virology\"[Majr] )'\n",
        "mesh_congenital_abnormalities = '( \"Congenital Abnormalities/abnormalities\"[Majr] OR  \"Congenital Abnormalities/adverse effects\"[Majr] OR  \"Congenital Abnormalities/analysis\"[Majr] OR  \"Congenital Abnormalities/anatomy and histology\"[Majr] OR  \"Congenital Abnormalities/blood\"[Majr] OR  \"Congenital Abnormalities/blood supply\"[Majr] OR  \"Congenital Abnormalities/cerebrospinal fluid\"[Majr] OR  \"Congenital Abnormalities/chemical synthesis\"[Majr] OR  \"Congenital Abnormalities/chemically induced\"[Majr] OR  \"Congenital Abnormalities/chemistry\"[Majr] OR  \"Congenital Abnormalities/classification\"[Majr] OR  \"Congenital Abnormalities/complications\"[Majr] OR  \"Congenital Abnormalities/congenital\"[Majr] OR  \"Congenital Abnormalities/cytology\"[Majr] OR  \"Congenital Abnormalities/diagnosis\"[Majr] OR  \"Congenital Abnormalities/diagnostic imaging\"[Majr] OR  \"Congenital Abnormalities/diet therapy\"[Majr] OR  \"Congenital Abnormalities/drug effects\"[Majr] OR  \"Congenital Abnormalities/drug therapy\"[Majr] OR  \"Congenital Abnormalities/economics\"[Majr] OR  \"Congenital Abnormalities/education\"[Majr] OR  \"Congenital Abnormalities/embryology\"[Majr] OR  \"Congenital Abnormalities/enzymology\"[Majr] OR  \"Congenital Abnormalities/epidemiology\"[Majr] OR  \"Congenital Abnormalities/ethnology\"[Majr] OR  \"Congenital Abnormalities/etiology\"[Majr] OR  \"Congenital Abnormalities/genetics\"[Majr] OR  \"Congenital Abnormalities/growth and development\"[Majr] OR  \"Congenital Abnormalities/history\"[Majr] OR  \"Congenital Abnormalities/immunology\"[Majr] OR  \"Congenital Abnormalities/injuries\"[Majr] OR  \"Congenital Abnormalities/innervation\"[Majr] OR  \"Congenital Abnormalities/instrumentation\"[Majr] OR  \"Congenital Abnormalities/isolation and purification\"[Majr] OR  \"Congenital Abnormalities/legislation and jurisprudence\"[Majr] OR  \"Congenital Abnormalities/metabolism\"[Majr] OR  \"Congenital Abnormalities/methods\"[Majr] OR  \"Congenital Abnormalities/microbiology\"[Majr] OR  \"Congenital Abnormalities/mortality\"[Majr] OR  \"Congenital Abnormalities/nursing\"[Majr] OR  \"Congenital Abnormalities/organization and administration\"[Majr] OR  \"Congenital Abnormalities/parasitology\"[Majr] OR  \"Congenital Abnormalities/pathology\"[Majr] OR  \"Congenital Abnormalities/pharmacology\"[Majr] OR  \"Congenital Abnormalities/physiology\"[Majr] OR  \"Congenital Abnormalities/physiopathology\"[Majr] OR  \"Congenital Abnormalities/prevention and control\"[Majr] OR  \"Congenital Abnormalities/psychology\"[Majr] OR  \"Congenital Abnormalities/radiation effects\"[Majr] OR  \"Congenital Abnormalities/radiotherapy\"[Majr] OR  \"Congenital Abnormalities/rehabilitation\"[Majr] OR  \"Congenital Abnormalities/secondary\"[Majr] OR  \"Congenital Abnormalities/statistics and numerical data\"[Majr] OR  \"Congenital Abnormalities/surgery\"[Majr] OR  \"Congenital Abnormalities/therapeutic use\"[Majr] OR  \"Congenital Abnormalities/therapy\"[Majr] OR  \"Congenital Abnormalities/transmission\"[Majr] OR  \"Congenital Abnormalities/transplantation\"[Majr] OR  \"Congenital Abnormalities/ultrastructure\"[Majr] OR  \"Congenital Abnormalities/urine\"[Majr] OR  \"Congenital Abnormalities/veterinary\"[Majr] OR  \"Congenital Abnormalities/virology\"[Majr] )'\n",
        "\n",
        "mesh_chemically_induced_disorders = '( \"Chemically-Induced Disorders/administration and dosage\"[Mesh] OR \"Chemically-Induced Disorders/adverse effects\"[Mesh] OR \"Chemically-Induced Disorders/analysis\"[Mesh] OR \"Chemically-Induced Disorders/anatomy and histology\"[Mesh] OR \"Chemically-Induced Disorders/blood\"[Mesh] OR \"Chemically-Induced Disorders/cerebrospinal fluid\"[Mesh] OR \"Chemically-Induced Disorders/chemically induced\"[Mesh] OR \"Chemically-Induced Disorders/chemistry\"[Mesh] OR \"Chemically-Induced Disorders/classification\"[Mesh] OR \"Chemically-Induced Disorders/complications\"[Mesh] OR \"Chemically-Induced Disorders/congenital\"[Mesh] OR \"Chemically-Induced Disorders/cytology\"[Mesh] OR \"Chemically-Induced Disorders/diagnosis\"[Mesh] OR \"Chemically-Induced Disorders/diagnostic imaging\"[Mesh] OR \"Chemically-Induced Disorders/diet therapy\"[Mesh] OR \"Chemically-Induced Disorders/drug effects\"[Mesh] OR \"Chemically-Induced Disorders/drug therapy\"[Mesh] OR \"Chemically-Induced Disorders/economics\"[Mesh] OR \"Chemically-Induced Disorders/education\"[Mesh] OR \"Chemically-Induced Disorders/embryology\"[Mesh] OR \"Chemically-Induced Disorders/enzymology\"[Mesh] OR \"Chemically-Induced Disorders/epidemiology\"[Mesh] OR \"Chemically-Induced Disorders/ethnology\"[Mesh] OR \"Chemically-Induced Disorders/etiology\"[Mesh] OR \"Chemically-Induced Disorders/genetics\"[Mesh] OR \"Chemically-Induced Disorders/history\"[Mesh] OR \"Chemically-Induced Disorders/immunology\"[Mesh] OR \"Chemically-Induced Disorders/legislation and jurisprudence\"[Mesh] OR \"Chemically-Induced Disorders/metabolism\"[Mesh] OR \"Chemically-Induced Disorders/methods\"[Mesh] OR \"Chemically-Induced Disorders/microbiology\"[Mesh] OR \"Chemically-Induced Disorders/mortality\"[Mesh] OR \"Chemically-Induced Disorders/nursing\"[Mesh] OR \"Chemically-Induced Disorders/organization and administration\"[Mesh] OR \"Chemically-Induced Disorders/parasitology\"[Mesh] OR \"Chemically-Induced Disorders/pathology\"[Mesh] OR \"Chemically-Induced Disorders/pharmacology\"[Mesh] OR \"Chemically-Induced Disorders/physiology\"[Mesh] OR \"Chemically-Induced Disorders/physiopathology\"[Mesh] OR \"Chemically-Induced Disorders/prevention and control\"[Mesh] OR \"Chemically-Induced Disorders/psychology\"[Mesh] OR \"Chemically-Induced Disorders/radiation effects\"[Mesh] OR \"Chemically-Induced Disorders/radiotherapy\"[Mesh] OR \"Chemically-Induced Disorders/rehabilitation\"[Mesh] OR \"Chemically-Induced Disorders/standards\"[Mesh] OR \"Chemically-Induced Disorders/statistics and numerical data\"[Mesh] OR \"Chemically-Induced Disorders/surgery\"[Mesh] OR \"Chemically-Induced Disorders/therapeutic use\"[Mesh] OR \"Chemically-Induced Disorders/therapy\"[Mesh] OR \"Chemically-Induced Disorders/toxicity\"[Mesh] OR \"Chemically-Induced Disorders/transmission\"[Mesh] OR \"Chemically-Induced Disorders/trends\"[Mesh] OR \"Chemically-Induced Disorders/ultrastructure\"[Mesh] OR \"Chemically-Induced Disorders/urine\"[Mesh] OR \"Chemically-Induced Disorders/veterinary\"[Mesh] OR \"Chemically-Induced Disorders/virology\"[Mesh] )'\n",
        "mesh_drug_side_effects = '( \"Drug-Related Side Effects and Adverse Reactions/analysis\"[Mesh] OR \"Drug-Related Side Effects and Adverse Reactions/anatomy and histology\"[Mesh] OR \"Drug-Related Side Effects and Adverse Reactions/blood\"[Mesh] OR \"Drug-Related Side Effects and Adverse Reactions/cerebrospinal fluid\"[Mesh] OR \"Drug-Related Side Effects and Adverse Reactions/chemically induced\"[Mesh] OR \"Drug-Related Side Effects and Adverse Reactions/classification\"[Mesh] OR \"Drug-Related Side Effects and Adverse Reactions/complications\"[Mesh] OR \"Drug-Related Side Effects and Adverse Reactions/congenital\"[Mesh] OR \"Drug-Related Side Effects and Adverse Reactions/diagnosis\"[Mesh] OR \"Drug-Related Side Effects and Adverse Reactions/diagnostic imaging\"[Mesh] OR \"Drug-Related Side Effects and Adverse Reactions/diet therapy\"[Mesh] OR \"Drug-Related Side Effects and Adverse Reactions/drug effects\"[Mesh] OR \"Drug-Related Side Effects and Adverse Reactions/drug therapy\"[Mesh] OR \"Drug-Related Side Effects and Adverse Reactions/economics\"[Mesh] OR \"Drug-Related Side Effects and Adverse Reactions/embryology\"[Mesh] OR \"Drug-Related Side Effects and Adverse Reactions/enzymology\"[Mesh] OR \"Drug-Related Side Effects and Adverse Reactions/epidemiology\"[Mesh] OR \"Drug-Related Side Effects and Adverse Reactions/ethnology\"[Mesh] OR \"Drug-Related Side Effects and Adverse Reactions/etiology\"[Mesh] OR \"Drug-Related Side Effects and Adverse Reactions/genetics\"[Mesh] OR \"Drug-Related Side Effects and Adverse Reactions/history\"[Mesh] OR \"Drug-Related Side Effects and Adverse Reactions/immunology\"[Mesh] OR \"Drug-Related Side Effects and Adverse Reactions/metabolism\"[Mesh] OR \"Drug-Related Side Effects and Adverse Reactions/microbiology\"[Mesh] OR \"Drug-Related Side Effects and Adverse Reactions/mortality\"[Mesh] OR \"Drug-Related Side Effects and Adverse Reactions/nursing\"[Mesh] OR \"Drug-Related Side Effects and Adverse Reactions/organization and administration\"[Mesh] OR \"Drug-Related Side Effects and Adverse Reactions/parasitology\"[Mesh] OR \"Drug-Related Side Effects and Adverse Reactions/pathology\"[Mesh] OR \"Drug-Related Side Effects and Adverse Reactions/physiology\"[Mesh] OR \"Drug-Related Side Effects and Adverse Reactions/physiopathology\"[Mesh] OR \"Drug-Related Side Effects and Adverse Reactions/prevention and control\"[Mesh] OR \"Drug-Related Side Effects and Adverse Reactions/psychology\"[Mesh] OR \"Drug-Related Side Effects and Adverse Reactions/radiotherapy\"[Mesh] OR \"Drug-Related Side Effects and Adverse Reactions/rehabilitation\"[Mesh] OR \"Drug-Related Side Effects and Adverse Reactions/statistics and numerical data\"[Mesh] OR \"Drug-Related Side Effects and Adverse Reactions/surgery\"[Mesh] OR \"Drug-Related Side Effects and Adverse Reactions/therapy\"[Mesh] OR \"Drug-Related Side Effects and Adverse Reactions/transmission\"[Mesh] OR \"Drug-Related Side Effects and Adverse Reactions/urine\"[Mesh] OR \"Drug-Related Side Effects and Adverse Reactions/veterinary\"[Mesh] OR \"Drug-Related Side Effects and Adverse Reactions/virology\"[Mesh] ) '\n",
        "mesh_congenital_abnormalities = '( \"Congenital Abnormalities/abnormalities\"[Mesh] OR \"Congenital Abnormalities/adverse effects\"[Mesh] OR \"Congenital Abnormalities/analysis\"[Mesh] OR \"Congenital Abnormalities/anatomy and histology\"[Mesh] OR \"Congenital Abnormalities/blood\"[Mesh] OR \"Congenital Abnormalities/blood supply\"[Mesh] OR \"Congenital Abnormalities/cerebrospinal fluid\"[Mesh] OR \"Congenital Abnormalities/chemical synthesis\"[Mesh] OR \"Congenital Abnormalities/chemically induced\"[Mesh] OR \"Congenital Abnormalities/chemistry\"[Mesh] OR \"Congenital Abnormalities/classification\"[Mesh] OR \"Congenital Abnormalities/complications\"[Mesh] OR \"Congenital Abnormalities/congenital\"[Mesh] OR \"Congenital Abnormalities/cytology\"[Mesh] OR \"Congenital Abnormalities/diagnosis\"[Mesh] OR \"Congenital Abnormalities/diagnostic imaging\"[Mesh] OR \"Congenital Abnormalities/diet therapy\"[Mesh] OR \"Congenital Abnormalities/drug effects\"[Mesh] OR \"Congenital Abnormalities/drug therapy\"[Mesh] OR \"Congenital Abnormalities/economics\"[Mesh] OR \"Congenital Abnormalities/education\"[Mesh] OR \"Congenital Abnormalities/embryology\"[Mesh] OR \"Congenital Abnormalities/enzymology\"[Mesh] OR \"Congenital Abnormalities/epidemiology\"[Mesh] OR \"Congenital Abnormalities/ethnology\"[Mesh] OR \"Congenital Abnormalities/etiology\"[Mesh] OR \"Congenital Abnormalities/genetics\"[Mesh] OR \"Congenital Abnormalities/growth and development\"[Mesh] OR \"Congenital Abnormalities/history\"[Mesh] OR \"Congenital Abnormalities/immunology\"[Mesh] OR \"Congenital Abnormalities/injuries\"[Mesh] OR \"Congenital Abnormalities/innervation\"[Mesh] OR \"Congenital Abnormalities/instrumentation\"[Mesh] OR \"Congenital Abnormalities/isolation and purification\"[Mesh] OR \"Congenital Abnormalities/legislation and jurisprudence\"[Mesh] OR \"Congenital Abnormalities/metabolism\"[Mesh] OR \"Congenital Abnormalities/methods\"[Mesh] OR \"Congenital Abnormalities/microbiology\"[Mesh] OR \"Congenital Abnormalities/mortality\"[Mesh] OR \"Congenital Abnormalities/nursing\"[Mesh] OR \"Congenital Abnormalities/organization and administration\"[Mesh] OR \"Congenital Abnormalities/parasitology\"[Mesh] OR \"Congenital Abnormalities/pathology\"[Mesh] OR \"Congenital Abnormalities/pharmacology\"[Mesh] OR \"Congenital Abnormalities/physiology\"[Mesh] OR \"Congenital Abnormalities/physiopathology\"[Mesh] OR \"Congenital Abnormalities/prevention and control\"[Mesh] OR \"Congenital Abnormalities/psychology\"[Mesh] OR \"Congenital Abnormalities/radiation effects\"[Mesh] OR \"Congenital Abnormalities/radiotherapy\"[Mesh] OR \"Congenital Abnormalities/rehabilitation\"[Mesh] OR \"Congenital Abnormalities/secondary\"[Mesh] OR \"Congenital Abnormalities/statistics and numerical data\"[Mesh] OR \"Congenital Abnormalities/surgery\"[Mesh] OR \"Congenital Abnormalities/therapeutic use\"[Mesh] OR \"Congenital Abnormalities/therapy\"[Mesh] OR \"Congenital Abnormalities/transmission\"[Mesh] OR \"Congenital Abnormalities/transplantation\"[Mesh] OR \"Congenital Abnormalities/ultrastructure\"[Mesh] OR \"Congenital Abnormalities/urine\"[Mesh] OR \"Congenital Abnormalities/veterinary\"[Mesh] OR \"Congenital Abnormalities/virology\"[Mesh] ) '\n"
      ],
      "execution_count": 0,
      "outputs": []
    },
    {
      "cell_type": "markdown",
      "metadata": {
        "id": "3EuapLJeQ9_5",
        "colab_type": "text"
      },
      "source": [
        "# entrez functions"
      ]
    },
    {
      "cell_type": "code",
      "metadata": {
        "id": "N1ZMoNjpQ9_8",
        "colab_type": "code",
        "colab": {}
      },
      "source": [
        "entrez_base_url = 'https://eutils.ncbi.nlm.nih.gov/entrez/eutils'\n",
        "def post_esearch(query, db='pubmed'):\n",
        "    db = 'pubmed'\n",
        "    query = query.replace(' ', '+').replace('\"', '%22').replace('/','%2F')\n",
        "    query = query.replace('[','%5B').replace(']','%5D')\n",
        "    \n",
        "    url = f'{entrez_base_url}/esearch.fcgi?db={db}&term={query}&usehistory=y'\n",
        "    sleep(1)  # ensure 1 request per second at max\n",
        "    print('Requesting:', url)\n",
        "    output = urllib.request.urlopen(url).read()\n",
        "\n",
        "    soup = bs.BeautifulSoup(output,'lxml')\n",
        "    web = soup.find('webenv').text\n",
        "    key = soup.find('querykey').text\n",
        "    count = soup.find('count').text\n",
        "    print('Result:', (web, key, count))\n",
        "    return web, key, int(count)\n",
        "\n",
        "def get_docsum(web, key, count, db='pubmed'):\n",
        "    retmax = 10000\n",
        "    retstart = 0\n",
        "    ids = set()\n",
        "    while retstart < count:\n",
        "        url = f'{entrez_base_url}/esummary.fcgi?db={db}&query_key={key}&WebEnv={web}'\n",
        "        url += '&retstart={retstart}&retmax={retmax}'\n",
        "#        url += '&rettype=uilist&retmode=xml'\n",
        "        sleep(1)  # ensure 1 request per second at max\n",
        "        print('Requesting:', url)\n",
        "        try:\n",
        "            output = urllib.request.urlopen(url).read()\n",
        "        except (http.client.IncompleteRead) as e:\n",
        "            continue  # just retry same query     \n",
        "        soup = bs.BeautifulSoup(output, 'lxml')\n",
        "        ids.update((int(id.text) for id in soup.find_all('id')))\n",
        "        retstart += retmax\n",
        "    print(f'Retrieved {len(ids)} ids')\n",
        "    return ids\n",
        "\n",
        "def get_abstracts(ids, cachefunc, db='pubmed'):\n",
        "    to_get_ids = []\n",
        "    res = []\n",
        "    for abstract_id in ids:\n",
        "        abstract = cachefunc(abstract_id)\n",
        "        if abstract:\n",
        "            res.append((abstract_id, abstract))\n",
        "        else:\n",
        "            to_get_ids.append(abstract_id)\n",
        "    if not to_get_ids:\n",
        "        return res\n",
        "    \n",
        "    url = f'{entrez_base_url}/efetch.fcgi?db={db}'\n",
        "    # retmode/rettype info: https://www.ncbi.nlm.nih.gov/books/NBK25499/table/chapter4.T._valid_values_of__retmode_and/?report=objectonly\n",
        "    url += '&rettype=xml&retmode=xml'\n",
        "    data = 'id=' + '&id='.join(map(str, to_get_ids))\n",
        "    sleep(1)  # ensure 1 request per second at max\n",
        "    print('Requesting:', url)\n",
        "    print('ids:', data)\n",
        "    data = data.encode('utf-8')\n",
        "    req =  urllib.request.Request(url, data)\n",
        "    req.add_header('Content-Type', 'application/x-www-form-urlencoded')\n",
        "    output = urllib.request.urlopen(req).read()\n",
        "    print(output.decode()[:1000])\n",
        "    soup = bs.BeautifulSoup(output, 'lxml')\n",
        "    for data in soup.find_all('pmid'):\n",
        "        abstract_id = int(data.text)\n",
        "        abstracts = data.parent.find_all('abstract')\n",
        "        abstract = ''.join(map(str, abstracts))\n",
        "        res.append((abstract_id, abstract))\n",
        "    return res\n"
      ],
      "execution_count": 0,
      "outputs": []
    },
    {
      "cell_type": "markdown",
      "metadata": {
        "id": "BiOZmJh4Q-AH",
        "colab_type": "text"
      },
      "source": [
        "# database functions"
      ]
    },
    {
      "cell_type": "code",
      "metadata": {
        "id": "z51nTWy4Q-AK",
        "colab_type": "code",
        "colab": {}
      },
      "source": [
        "class1 = 1\n",
        "class2 = 2\n",
        "class3 = 3\n",
        "\n",
        "db_ids = 'pubmed_ids.db'\n",
        "create_table_ids = '''CREATE TABLE IF NOT EXISTS ids \n",
        "       (id integer PRIMARY KEY, class1 integer, class2 integer, class3 integer)'''\n",
        "\n",
        "db_abstracts = 'pubmed_abstracts.db'\n",
        "create_table_abstracts = '''CREATE TABLE IF NOT EXISTS abstracts \n",
        "       (id integer PRIMARY KEY, data text)'''\n",
        "\n",
        "\n",
        "def ensure_table(table, db):\n",
        "    conn = sqlite3.connect(db)\n",
        "    with conn:\n",
        "        c = conn.cursor()\n",
        "        c.execute(table)\n",
        "        conn.commit()\n",
        "\n",
        "\n",
        "def save_ids_to_db(class_id, ids, db=db_ids):\n",
        "    ensure_table(create_table_ids, db)\n",
        "\n",
        "    conn = sqlite3.connect(db)\n",
        "    with conn:\n",
        "        c = conn.cursor()\n",
        "        sql = f'''INSERT INTO ids(id, class{class_id}) VALUES(?, 1)\n",
        "                   ON CONFLICT(id) DO UPDATE SET class{class_id}=1;'''\n",
        "        #print(sql)\n",
        "        c.executemany(sql, zip(ids))\n",
        "\n",
        "        conn.commit()\n",
        "\n",
        "def get_abstract_from_db(abstract_id, db=db_abstracts):\n",
        "    ensure_table(create_table_abstracts, db)\n",
        "\n",
        "    conn = sqlite3.connect(db)\n",
        "    with conn:\n",
        "        c = conn.cursor()\n",
        "        c.execute(f'SELECT data FROM abstracts WHERE id={abstract_id}')\n",
        "        data = c.fetchone()\n",
        "        if data is None:\n",
        "            return data\n",
        "        return data[0]\n",
        "\n",
        "    \n",
        "def save_abstracts_to_db(abstracts, db=db_abstracts):\n",
        "    ensure_table(create_table_abstracts, db)\n",
        "\n",
        "    conn = sqlite3.connect(db)\n",
        "    with conn:\n",
        "        c = conn.cursor()\n",
        "        sql = f'''INSERT OR IGNORE INTO abstracts(id, data) VALUES(?, ?);'''\n",
        "        #print(sql)\n",
        "        c.executemany(sql, abstracts)\n",
        "\n",
        "        conn.commit()\n",
        "\n"
      ],
      "execution_count": 0,
      "outputs": []
    },
    {
      "cell_type": "code",
      "metadata": {
        "id": "5XVDzQgPQ-AV",
        "colab_type": "code",
        "outputId": "58154915-852f-4edc-b1d7-9e3b1e971172",
        "colab": {}
      },
      "source": [
        "url = base + f'efetch.fcgi?db={db}&query_key={key}&WebEnv={web}'\n",
        "url += '&rettype=abstract&retmode=text'\n",
        "\n",
        "#post the efetch URL\n",
        "print('Requesting:', url)\n",
        "data = urllib.request.urlopen(url).read()\n",
        "print(data[:5000])\n"
      ],
      "execution_count": 0,
      "outputs": [
        {
          "output_type": "stream",
          "text": [
            "b\"\\n1. Zhejiang Da Xue Xue Bao Yi Xue Ban. 2019 Jun 25;48(4):429-433.\\n\\n[Prenatal diagnosis and pregnancy outcomes of 22q11.2 duplication syndrome:\\nanalysis of 8 cases].\\n\\n[Article in Chinese]\\n\\nMei J(1), Liu J(2), Wang M(1), Zhang W(1), Wang H(1), Lu S(1), He C(1), Jin C(2).\\n\\nAuthor information: \\n(1)Prenatal Diagnostic Center, Hangzhou Municipal Women's Hospital, Hangzhou\\nMaternity and Child Health Care Hospital, Hangzhou 310008, China.\\n(2)Prenatal Diagnostic Center, Lishui Maternity and Child Health Care Hospital,\\nLishui 323000, Zhejiang Province, China.\\n\\nOBJECTIVE: To investigate the relationship between 22q11.2 duplication and\\nclinical phenotype.\\nMETHODS: Eight fetuses with 22q11.2 duplication syndrome diagnosed by chromosome \\nmicroarray analysis (CMA) through amniocentesis from February 2015 to March 2017 \\nwere enrolled in the study. The prenatal diagnostic indications, fetal\\nultrasound, chromosome karyotype, peripheral blood CMA results of parents,\\npregnancy outcomes and follow-up of postnatal growth and development were\\nretrospectively analyzed.\\nRESULTS: Prenatal serological screening indicated 6 cases with high risk of\\ntrisomy 21, 1 case with nuchal fold (NF) thickening and 1 case of maternal\\nchromosomal balanced translocation. Fetal ultrasonography showed 1 case of NF\\nthickening, 1 case of fetal cerebral ventriculomegaly and 6 cases with normal\\nultrasound. CMA demonstrated that the size of duplication was between 651 kb and \\n3.26 Mb, and 22q11.2 duplication. Parents' CMA results revealed that 6 cases\\ninherited from one of the parents with normal phenotype, and the parents of 2\\ncases refused the CMA test. Two couples chose induced labor; 6 cases of continued\\npregnancy had normal phenotypes at birth. All 6 cases were followed up with\\nlongest of 3.5 years. The growth and psychological development were normal in 5\\ncases, and one case was growth retardation.\\nCONCLUSIONS: There were no specific clinical phenotypes in 22q11.2 duplication\\nsyndrome, and most of them were inherited from one parent who has normal\\nphenotype.\\n\\n\\nPMID: 31901048  [Indexed for MEDLINE]\\n\\n\\n2. Zhejiang Da Xue Xue Bao Yi Xue Ban. 2019 Jun 25;48(4):384-389.\\n\\n[Analysis of Alport syndrome induced by type IV collagen alpha 5 gene mutation in\\ntwo families].\\n\\n[Article in Chinese]\\n\\nYe Q(1), Zhang Y(2), Wang J(2), Mao J(2).\\n\\nAuthor information: \\n(1)Clinical Laboratory, the Children's Hospital, Zhejiang University School of\\nMedicine, Hangzhou 310052, China.\\n(2)Department of Nephrology, the Children's Hospital, Zhejiang University School \\nof Medicine, Hangzhou 310052, China.\\n\\nOBJECTIVE: To investigate genetic characteristics of Alport syndrome.\\nMETHODS: High-throughput sequencing-based whole exome sequencing was performed in\\ntwo patients with recurrent unexplained abnormal urinalysis. The pathogenicity of\\nthe genetic variations, type of Mendelian genetics, and clinical phenotypes were \\nanalysed, and the disease-cause mutations were confirmed in the family members\\nusing Sanger sequencing.\\nRESULTS: Two heterozygous splice site mutations of COL4A5 gene c.2147-2A > T\\n(IVS27) and c.646-2A > G (IVS11) (NM_033380) were found in patients of the two\\nfamilies, which showed a co-segregation association with the affected members of \\nthe families.\\nCONCLUSIONS: Alport syndrome is mainly inherited from direct female patients, and\\nprenatal genetic screening based on amniotic fluid testing can effectively\\nprevent birth defects in patients with a family history of this characteristic\\nphenotype.\\n\\n\\nPMID: 31901041  [Indexed for MEDLINE]\\n\\n\\n3. Zhejiang Da Xue Xue Bao Yi Xue Ban. 2019 Jun 25;48(4):378-383.\\n\\n[Genetic analysis of a family of Van der Woude syndrome].\\n\\n[Article in Chinese]\\n\\nXu Y(1), Qian Y(1), Yao W(1), Dong M(1).\\n\\nAuthor information: \\n(1)Key Laboratory of Reproductive Genetics, Ministry of Education, Department of \\nReproductive Genetics, Women's Hospital, Zhejiang University School of Medicine, \\nHangzhou 310006, China.\\n\\nOBJECTIVE: To analyze clinical and genetic features of a family affected with Van\\nder Woude syndrome.\\nMETHODS: The umbilical cord blood of the proband and the peripheral blood of the \\nparents were used for the whole exon sequencing to find the candidate\\ngene.Peripheral blood of 9 members of the family were collected for Sanger\\nsequencing verification, bioinformatics analysis and genotype-phenotype\\ncorrelation analysis.\\nRESULTS: The proband was diagnosed with cleft lip and palate by ultrasound. His\\nfather and grandmother had hollow lower lip and all other family members did not \\nhave the similar phenotype. A missense c.263A>G (p.N88S) mutation was found in\\nexon 4 of IRF6 gene in the proband, his father and his grandmother.The mutation\\nwas not found in other family members.\\nCONCLUSIONS: A missense c.263A>G (p.N88S) mutation in IRF6 gene probably\\nunderlies the pathogenesis of Van der Woude syndrome in the family and the\\nmutation has been firstly discovered in China.\\n\\n\\nPMID: 31901040  [Indexed for MEDLINE]\\n\\n\\n4. Zhonghua Yi Xue Za Zhi. 2019 Dec 24;99\"\n"
          ],
          "name": "stdout"
        }
      ]
    },
    {
      "cell_type": "markdown",
      "metadata": {
        "id": "wJ60-WTaQ-Al",
        "colab_type": "text"
      },
      "source": [
        "# retrieve ids"
      ]
    },
    {
      "cell_type": "code",
      "metadata": {
        "id": "vcnmDD5TQ-Ao",
        "colab_type": "code",
        "colab": {}
      },
      "source": [
        "esearch1 = post_esearch(mesh_chemically_induced_disorders)\n",
        "esearch2 = post_esearch(mesh_drug_side_effects)\n",
        "esearch3 = post_esearch(mesh_congenital_abnormalities)"
      ],
      "execution_count": 0,
      "outputs": []
    },
    {
      "cell_type": "code",
      "metadata": {
        "id": "jjI_kgMZQ-Aw",
        "colab_type": "code",
        "colab": {}
      },
      "source": [
        "ids1 = get_docsum(*esearch1)\n",
        "ids2 = get_docsum(*esearch2)\n",
        "ids3 = get_docsum(*esearch3)"
      ],
      "execution_count": 0,
      "outputs": []
    },
    {
      "cell_type": "markdown",
      "metadata": {
        "id": "nFrvALIMQ-A1",
        "colab_type": "text"
      },
      "source": [
        "# save ids to db"
      ]
    },
    {
      "cell_type": "code",
      "metadata": {
        "scrolled": true,
        "id": "yYviupBQQ-A3",
        "colab_type": "code",
        "colab": {}
      },
      "source": [
        "save_ids_to_db(class1, ids1)\n",
        "save_ids_to_db(class2, ids2)\n",
        "save_ids_to_db(class3, ids3)"
      ],
      "execution_count": 0,
      "outputs": []
    },
    {
      "cell_type": "markdown",
      "metadata": {
        "id": "dciAtOVoQ-A8",
        "colab_type": "text"
      },
      "source": [
        "# ids intersection"
      ]
    },
    {
      "cell_type": "code",
      "metadata": {
        "id": "wmd7Jus6Q-A_",
        "colab_type": "code",
        "outputId": "fb2c6dae-049f-4ad4-a8aa-453b0a740096",
        "colab": {}
      },
      "source": [
        "len(ids1), len(ids2), len(ids3)"
      ],
      "execution_count": 0,
      "outputs": [
        {
          "output_type": "execute_result",
          "data": {
            "text/plain": [
              "(395790, 75088, 493963)"
            ]
          },
          "metadata": {
            "tags": []
          },
          "execution_count": 87
        }
      ]
    },
    {
      "cell_type": "code",
      "metadata": {
        "id": "WJ7gZC5BQ-BD",
        "colab_type": "code",
        "outputId": "7cb7713a-6dbb-4018-86c1-2d7a1e74b004",
        "colab": {}
      },
      "source": [
        "print(len(ids1.intersection(ids2)))\n",
        "#ids1.intersection(ids2)"
      ],
      "execution_count": 0,
      "outputs": [
        {
          "output_type": "stream",
          "text": [
            "75088\n"
          ],
          "name": "stdout"
        }
      ]
    },
    {
      "cell_type": "code",
      "metadata": {
        "id": "gcqrs3hYQ-BH",
        "colab_type": "code",
        "outputId": "7f9d92da-f262-45a8-c308-c8d69dde88b5",
        "colab": {}
      },
      "source": [
        "print(len(ids1.intersection(ids3)))\n",
        "#ids1.intersection(ids3)"
      ],
      "execution_count": 0,
      "outputs": [
        {
          "output_type": "stream",
          "text": [
            "2282\n"
          ],
          "name": "stdout"
        }
      ]
    },
    {
      "cell_type": "code",
      "metadata": {
        "scrolled": true,
        "id": "btMV6mIyQ-BK",
        "colab_type": "code",
        "outputId": "f8e27ebb-9274-438d-b0d8-ae6f878611e9",
        "colab": {}
      },
      "source": [
        "print(len(ids2.intersection(ids3)))\n",
        "#ids2.intersection(ids3)"
      ],
      "execution_count": 0,
      "outputs": [
        {
          "output_type": "stream",
          "text": [
            "494\n"
          ],
          "name": "stdout"
        }
      ]
    },
    {
      "cell_type": "markdown",
      "metadata": {
        "id": "TfelMNu1Q-BN",
        "colab_type": "text"
      },
      "source": [
        "# retrieve abstracts"
      ]
    },
    {
      "cell_type": "code",
      "metadata": {
        "id": "c8EmgLuMQ-BO",
        "colab_type": "code",
        "colab": {}
      },
      "source": [
        "get_abstract_from_db(7)\n",
        "get_abstract_from_db(0)"
      ],
      "execution_count": 0,
      "outputs": []
    },
    {
      "cell_type": "code",
      "metadata": {
        "id": "_6xuYgbZQ-BS",
        "colab_type": "code",
        "outputId": "069ad686-bc1e-4d67-fe7b-643d570c24f1",
        "colab": {}
      },
      "source": [
        "get_abstract_from_db(24117525)"
      ],
      "execution_count": 0,
      "outputs": [
        {
          "output_type": "execute_result",
          "data": {
            "text/plain": [
              "'<abstract>\\n<abstracttext label=\"BACKGROUND\" nlmcategory=\"BACKGROUND\">Wernicke\\'s encephalopathy-Korsakoff syndrome (WE-KS) is common in alcoholics, caused by thiamine deficiency (TD; vitamin B1) and associated with lesions to the thalamus (THAL). Although TD alone can cause WE, the high incidence in alcoholism suggests that TD and ethanol (EtOH) interact.</abstracttext>\\n<abstracttext label=\"METHODS\" nlmcategory=\"METHODS\">Mice in control, TD, or EtOH groups alone or combined were studied after 5 or 10\\xa0days of treatment. THAL and entorhinal cortex (ENT) histochemistry and mRNA were assessed.</abstracttext>\\n<abstracttext label=\"RESULTS\" nlmcategory=\"RESULTS\">Combined EtOH-TD treatment for 5\\xa0days (EtOH-TD5) showed activated microglia, proinflammatory gene induction and THAL neurodegeneration that was greater than that found with TD alone (TD5), whereas 10\\xa0days resulted in marked THAL degeneration and microglial-neuroimmune activation in both groups. In contrast, 10\\xa0days of TD did not cause ENT degeneration. Interestingly, in ENT, TD10 activated microglia and astrocytes more than EtOH-TD10. In THAL, multiple astrocytic markers were lost consistent with glial cell loss. TD blocks glucose metabolism more than acetate. Acetate derived from hepatic EtOH metabolism is transported by monocarboxylic acid transporters (MCT) into both neurons and astrocytes that use acetyl-CoA synthetase (AcCoAS) to generate cellular energy from acetate. MCT and AcCoAS expression in THAL is lower than ENT prompting the hypothesis that focal THAL degeneration is related to insufficient MCT and AcCoAS in THAL. To test this hypothesis, we administered glycerin triacetate (GTA) to increase blood acetate and found it protected the THAL from TD-induced degeneration.</abstracttext>\\n<abstracttext label=\"CONCLUSIONS\" nlmcategory=\"CONCLUSIONS\">Our findings suggest that EtOH potentiates TD-induced THAL degeneration through neuroimmune gene induction. The findings support the hypothesis that TD deficiency inhibits global glucose metabolism and that a reduced ability to process acetate for cellular energy results in THAL focal degeneration in alcoholics contributing to the high incidence of Wernicke-Korsakoff syndrome in alcoholism.</abstracttext>\\n<copyrightinformation>Copyright © 2013 by the Research Society on Alcoholism.</copyrightinformation>\\n</abstract>'"
            ]
          },
          "metadata": {
            "tags": []
          },
          "execution_count": 184
        }
      ]
    },
    {
      "cell_type": "code",
      "metadata": {
        "id": "wysF9p7PQ-BV",
        "colab_type": "code",
        "colab": {}
      },
      "source": [
        "#save_abstracts_to_db(get_abstracts(list(ids1)[:10000], get_abstract_from_db))\n",
        "save_abstracts_to_db(get_abstracts(list(ids2)[:10000], get_abstract_from_db))\n",
        "save_abstracts_to_db(get_abstracts(list(ids3)[:10000], get_abstract_from_db))\n",
        "save_abstracts_to_db(get_abstracts(list(ids1.intersection(ids2))[:10000], get_abstract_from_db))\n",
        "save_abstracts_to_db(get_abstracts(list(ids1.intersection(ids3))[:10000], get_abstract_from_db))\n",
        "save_abstracts_to_db(get_abstracts(list(ids2.intersection(ids3))[:10000], get_abstract_from_db))"
      ],
      "execution_count": 0,
      "outputs": []
    }
  ]
}